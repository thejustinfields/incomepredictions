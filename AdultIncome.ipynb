{
  "nbformat": 4,
  "nbformat_minor": 0,
  "metadata": {
    "colab": {
      "provenance": [],
      "mount_file_id": "1TN8BbypmMjICaURzlBUXjXRIpA6I4fS4",
      "authorship_tag": "ABX9TyMu/uzsIvpg8yqDhvHJQ2yN",
      "include_colab_link": true
    },
    "kernelspec": {
      "name": "python3",
      "display_name": "Python 3"
    },
    "language_info": {
      "name": "python"
    }
  },
  "cells": [
    {
      "cell_type": "markdown",
      "metadata": {
        "id": "view-in-github",
        "colab_type": "text"
      },
      "source": [
        "<a href=\"https://colab.research.google.com/github/thejustinfields/project2_/blob/main/AdultIncome.ipynb\" target=\"_parent\"><img src=\"https://colab.research.google.com/assets/colab-badge.svg\" alt=\"Open In Colab\"/></a>"
      ]
    },
    {
      "cell_type": "code",
      "execution_count": 1,
      "metadata": {
        "id": "DlESN0zLsBDN"
      },
      "outputs": [],
      "source": [
        "import pandas as pd\n",
        "import numpy as np\n",
        "import matplotlib.pyplot as plt\n",
        "import seaborn as sns\n",
        "\n",
        "## Filter ALL warnings\n",
        "import warnings\n",
        "warnings.filterwarnings('ignore')"
      ]
    },
    {
      "cell_type": "code",
      "source": [
        "filename=\"/content/drive/MyDrive/adult.csv\"\n",
        "df = pd.read_csv(filename)\n",
        "df"
      ],
      "metadata": {
        "colab": {
          "base_uri": "https://localhost:8080/",
          "height": 650
        },
        "id": "svz6aPI9sK7G",
        "outputId": "f5c334b9-e91f-494e-fb13-72cbd73bcd94"
      },
      "execution_count": 2,
      "outputs": [
        {
          "output_type": "execute_result",
          "data": {
            "text/plain": [
              "       age     workclass  fnlwgt     education  educational-num  \\\n",
              "0       25       Private  226802          11th                7   \n",
              "1       38       Private   89814       HS-grad                9   \n",
              "2       28     Local-gov  336951    Assoc-acdm               12   \n",
              "3       44       Private  160323  Some-college               10   \n",
              "4       18             ?  103497  Some-college               10   \n",
              "...    ...           ...     ...           ...              ...   \n",
              "48837   27       Private  257302    Assoc-acdm               12   \n",
              "48838   40       Private  154374       HS-grad                9   \n",
              "48839   58       Private  151910       HS-grad                9   \n",
              "48840   22       Private  201490       HS-grad                9   \n",
              "48841   52  Self-emp-inc  287927       HS-grad                9   \n",
              "\n",
              "           marital-status         occupation relationship   race  gender  \\\n",
              "0           Never-married  Machine-op-inspct    Own-child  Black    Male   \n",
              "1      Married-civ-spouse    Farming-fishing      Husband  White    Male   \n",
              "2      Married-civ-spouse    Protective-serv      Husband  White    Male   \n",
              "3      Married-civ-spouse  Machine-op-inspct      Husband  Black    Male   \n",
              "4           Never-married                  ?    Own-child  White  Female   \n",
              "...                   ...                ...          ...    ...     ...   \n",
              "48837  Married-civ-spouse       Tech-support         Wife  White  Female   \n",
              "48838  Married-civ-spouse  Machine-op-inspct      Husband  White    Male   \n",
              "48839             Widowed       Adm-clerical    Unmarried  White  Female   \n",
              "48840       Never-married       Adm-clerical    Own-child  White    Male   \n",
              "48841  Married-civ-spouse    Exec-managerial         Wife  White  Female   \n",
              "\n",
              "       capital-gain  capital-loss  hours-per-week native-country income  \n",
              "0                 0             0              40  United-States  <=50K  \n",
              "1                 0             0              50  United-States  <=50K  \n",
              "2                 0             0              40  United-States   >50K  \n",
              "3              7688             0              40  United-States   >50K  \n",
              "4                 0             0              30  United-States  <=50K  \n",
              "...             ...           ...             ...            ...    ...  \n",
              "48837             0             0              38  United-States  <=50K  \n",
              "48838             0             0              40  United-States   >50K  \n",
              "48839             0             0              40  United-States  <=50K  \n",
              "48840             0             0              20  United-States  <=50K  \n",
              "48841         15024             0              40  United-States   >50K  \n",
              "\n",
              "[48842 rows x 15 columns]"
            ],
            "text/html": [
              "\n",
              "  <div id=\"df-316537c7-36ba-4431-a646-6561b67c8ee5\">\n",
              "    <div class=\"colab-df-container\">\n",
              "      <div>\n",
              "<style scoped>\n",
              "    .dataframe tbody tr th:only-of-type {\n",
              "        vertical-align: middle;\n",
              "    }\n",
              "\n",
              "    .dataframe tbody tr th {\n",
              "        vertical-align: top;\n",
              "    }\n",
              "\n",
              "    .dataframe thead th {\n",
              "        text-align: right;\n",
              "    }\n",
              "</style>\n",
              "<table border=\"1\" class=\"dataframe\">\n",
              "  <thead>\n",
              "    <tr style=\"text-align: right;\">\n",
              "      <th></th>\n",
              "      <th>age</th>\n",
              "      <th>workclass</th>\n",
              "      <th>fnlwgt</th>\n",
              "      <th>education</th>\n",
              "      <th>educational-num</th>\n",
              "      <th>marital-status</th>\n",
              "      <th>occupation</th>\n",
              "      <th>relationship</th>\n",
              "      <th>race</th>\n",
              "      <th>gender</th>\n",
              "      <th>capital-gain</th>\n",
              "      <th>capital-loss</th>\n",
              "      <th>hours-per-week</th>\n",
              "      <th>native-country</th>\n",
              "      <th>income</th>\n",
              "    </tr>\n",
              "  </thead>\n",
              "  <tbody>\n",
              "    <tr>\n",
              "      <th>0</th>\n",
              "      <td>25</td>\n",
              "      <td>Private</td>\n",
              "      <td>226802</td>\n",
              "      <td>11th</td>\n",
              "      <td>7</td>\n",
              "      <td>Never-married</td>\n",
              "      <td>Machine-op-inspct</td>\n",
              "      <td>Own-child</td>\n",
              "      <td>Black</td>\n",
              "      <td>Male</td>\n",
              "      <td>0</td>\n",
              "      <td>0</td>\n",
              "      <td>40</td>\n",
              "      <td>United-States</td>\n",
              "      <td>&lt;=50K</td>\n",
              "    </tr>\n",
              "    <tr>\n",
              "      <th>1</th>\n",
              "      <td>38</td>\n",
              "      <td>Private</td>\n",
              "      <td>89814</td>\n",
              "      <td>HS-grad</td>\n",
              "      <td>9</td>\n",
              "      <td>Married-civ-spouse</td>\n",
              "      <td>Farming-fishing</td>\n",
              "      <td>Husband</td>\n",
              "      <td>White</td>\n",
              "      <td>Male</td>\n",
              "      <td>0</td>\n",
              "      <td>0</td>\n",
              "      <td>50</td>\n",
              "      <td>United-States</td>\n",
              "      <td>&lt;=50K</td>\n",
              "    </tr>\n",
              "    <tr>\n",
              "      <th>2</th>\n",
              "      <td>28</td>\n",
              "      <td>Local-gov</td>\n",
              "      <td>336951</td>\n",
              "      <td>Assoc-acdm</td>\n",
              "      <td>12</td>\n",
              "      <td>Married-civ-spouse</td>\n",
              "      <td>Protective-serv</td>\n",
              "      <td>Husband</td>\n",
              "      <td>White</td>\n",
              "      <td>Male</td>\n",
              "      <td>0</td>\n",
              "      <td>0</td>\n",
              "      <td>40</td>\n",
              "      <td>United-States</td>\n",
              "      <td>&gt;50K</td>\n",
              "    </tr>\n",
              "    <tr>\n",
              "      <th>3</th>\n",
              "      <td>44</td>\n",
              "      <td>Private</td>\n",
              "      <td>160323</td>\n",
              "      <td>Some-college</td>\n",
              "      <td>10</td>\n",
              "      <td>Married-civ-spouse</td>\n",
              "      <td>Machine-op-inspct</td>\n",
              "      <td>Husband</td>\n",
              "      <td>Black</td>\n",
              "      <td>Male</td>\n",
              "      <td>7688</td>\n",
              "      <td>0</td>\n",
              "      <td>40</td>\n",
              "      <td>United-States</td>\n",
              "      <td>&gt;50K</td>\n",
              "    </tr>\n",
              "    <tr>\n",
              "      <th>4</th>\n",
              "      <td>18</td>\n",
              "      <td>?</td>\n",
              "      <td>103497</td>\n",
              "      <td>Some-college</td>\n",
              "      <td>10</td>\n",
              "      <td>Never-married</td>\n",
              "      <td>?</td>\n",
              "      <td>Own-child</td>\n",
              "      <td>White</td>\n",
              "      <td>Female</td>\n",
              "      <td>0</td>\n",
              "      <td>0</td>\n",
              "      <td>30</td>\n",
              "      <td>United-States</td>\n",
              "      <td>&lt;=50K</td>\n",
              "    </tr>\n",
              "    <tr>\n",
              "      <th>...</th>\n",
              "      <td>...</td>\n",
              "      <td>...</td>\n",
              "      <td>...</td>\n",
              "      <td>...</td>\n",
              "      <td>...</td>\n",
              "      <td>...</td>\n",
              "      <td>...</td>\n",
              "      <td>...</td>\n",
              "      <td>...</td>\n",
              "      <td>...</td>\n",
              "      <td>...</td>\n",
              "      <td>...</td>\n",
              "      <td>...</td>\n",
              "      <td>...</td>\n",
              "      <td>...</td>\n",
              "    </tr>\n",
              "    <tr>\n",
              "      <th>48837</th>\n",
              "      <td>27</td>\n",
              "      <td>Private</td>\n",
              "      <td>257302</td>\n",
              "      <td>Assoc-acdm</td>\n",
              "      <td>12</td>\n",
              "      <td>Married-civ-spouse</td>\n",
              "      <td>Tech-support</td>\n",
              "      <td>Wife</td>\n",
              "      <td>White</td>\n",
              "      <td>Female</td>\n",
              "      <td>0</td>\n",
              "      <td>0</td>\n",
              "      <td>38</td>\n",
              "      <td>United-States</td>\n",
              "      <td>&lt;=50K</td>\n",
              "    </tr>\n",
              "    <tr>\n",
              "      <th>48838</th>\n",
              "      <td>40</td>\n",
              "      <td>Private</td>\n",
              "      <td>154374</td>\n",
              "      <td>HS-grad</td>\n",
              "      <td>9</td>\n",
              "      <td>Married-civ-spouse</td>\n",
              "      <td>Machine-op-inspct</td>\n",
              "      <td>Husband</td>\n",
              "      <td>White</td>\n",
              "      <td>Male</td>\n",
              "      <td>0</td>\n",
              "      <td>0</td>\n",
              "      <td>40</td>\n",
              "      <td>United-States</td>\n",
              "      <td>&gt;50K</td>\n",
              "    </tr>\n",
              "    <tr>\n",
              "      <th>48839</th>\n",
              "      <td>58</td>\n",
              "      <td>Private</td>\n",
              "      <td>151910</td>\n",
              "      <td>HS-grad</td>\n",
              "      <td>9</td>\n",
              "      <td>Widowed</td>\n",
              "      <td>Adm-clerical</td>\n",
              "      <td>Unmarried</td>\n",
              "      <td>White</td>\n",
              "      <td>Female</td>\n",
              "      <td>0</td>\n",
              "      <td>0</td>\n",
              "      <td>40</td>\n",
              "      <td>United-States</td>\n",
              "      <td>&lt;=50K</td>\n",
              "    </tr>\n",
              "    <tr>\n",
              "      <th>48840</th>\n",
              "      <td>22</td>\n",
              "      <td>Private</td>\n",
              "      <td>201490</td>\n",
              "      <td>HS-grad</td>\n",
              "      <td>9</td>\n",
              "      <td>Never-married</td>\n",
              "      <td>Adm-clerical</td>\n",
              "      <td>Own-child</td>\n",
              "      <td>White</td>\n",
              "      <td>Male</td>\n",
              "      <td>0</td>\n",
              "      <td>0</td>\n",
              "      <td>20</td>\n",
              "      <td>United-States</td>\n",
              "      <td>&lt;=50K</td>\n",
              "    </tr>\n",
              "    <tr>\n",
              "      <th>48841</th>\n",
              "      <td>52</td>\n",
              "      <td>Self-emp-inc</td>\n",
              "      <td>287927</td>\n",
              "      <td>HS-grad</td>\n",
              "      <td>9</td>\n",
              "      <td>Married-civ-spouse</td>\n",
              "      <td>Exec-managerial</td>\n",
              "      <td>Wife</td>\n",
              "      <td>White</td>\n",
              "      <td>Female</td>\n",
              "      <td>15024</td>\n",
              "      <td>0</td>\n",
              "      <td>40</td>\n",
              "      <td>United-States</td>\n",
              "      <td>&gt;50K</td>\n",
              "    </tr>\n",
              "  </tbody>\n",
              "</table>\n",
              "<p>48842 rows × 15 columns</p>\n",
              "</div>\n",
              "      <button class=\"colab-df-convert\" onclick=\"convertToInteractive('df-316537c7-36ba-4431-a646-6561b67c8ee5')\"\n",
              "              title=\"Convert this dataframe to an interactive table.\"\n",
              "              style=\"display:none;\">\n",
              "        \n",
              "  <svg xmlns=\"http://www.w3.org/2000/svg\" height=\"24px\"viewBox=\"0 0 24 24\"\n",
              "       width=\"24px\">\n",
              "    <path d=\"M0 0h24v24H0V0z\" fill=\"none\"/>\n",
              "    <path d=\"M18.56 5.44l.94 2.06.94-2.06 2.06-.94-2.06-.94-.94-2.06-.94 2.06-2.06.94zm-11 1L8.5 8.5l.94-2.06 2.06-.94-2.06-.94L8.5 2.5l-.94 2.06-2.06.94zm10 10l.94 2.06.94-2.06 2.06-.94-2.06-.94-.94-2.06-.94 2.06-2.06.94z\"/><path d=\"M17.41 7.96l-1.37-1.37c-.4-.4-.92-.59-1.43-.59-.52 0-1.04.2-1.43.59L10.3 9.45l-7.72 7.72c-.78.78-.78 2.05 0 2.83L4 21.41c.39.39.9.59 1.41.59.51 0 1.02-.2 1.41-.59l7.78-7.78 2.81-2.81c.8-.78.8-2.07 0-2.86zM5.41 20L4 18.59l7.72-7.72 1.47 1.35L5.41 20z\"/>\n",
              "  </svg>\n",
              "      </button>\n",
              "      \n",
              "  <style>\n",
              "    .colab-df-container {\n",
              "      display:flex;\n",
              "      flex-wrap:wrap;\n",
              "      gap: 12px;\n",
              "    }\n",
              "\n",
              "    .colab-df-convert {\n",
              "      background-color: #E8F0FE;\n",
              "      border: none;\n",
              "      border-radius: 50%;\n",
              "      cursor: pointer;\n",
              "      display: none;\n",
              "      fill: #1967D2;\n",
              "      height: 32px;\n",
              "      padding: 0 0 0 0;\n",
              "      width: 32px;\n",
              "    }\n",
              "\n",
              "    .colab-df-convert:hover {\n",
              "      background-color: #E2EBFA;\n",
              "      box-shadow: 0px 1px 2px rgba(60, 64, 67, 0.3), 0px 1px 3px 1px rgba(60, 64, 67, 0.15);\n",
              "      fill: #174EA6;\n",
              "    }\n",
              "\n",
              "    [theme=dark] .colab-df-convert {\n",
              "      background-color: #3B4455;\n",
              "      fill: #D2E3FC;\n",
              "    }\n",
              "\n",
              "    [theme=dark] .colab-df-convert:hover {\n",
              "      background-color: #434B5C;\n",
              "      box-shadow: 0px 1px 3px 1px rgba(0, 0, 0, 0.15);\n",
              "      filter: drop-shadow(0px 1px 2px rgba(0, 0, 0, 0.3));\n",
              "      fill: #FFFFFF;\n",
              "    }\n",
              "  </style>\n",
              "\n",
              "      <script>\n",
              "        const buttonEl =\n",
              "          document.querySelector('#df-316537c7-36ba-4431-a646-6561b67c8ee5 button.colab-df-convert');\n",
              "        buttonEl.style.display =\n",
              "          google.colab.kernel.accessAllowed ? 'block' : 'none';\n",
              "\n",
              "        async function convertToInteractive(key) {\n",
              "          const element = document.querySelector('#df-316537c7-36ba-4431-a646-6561b67c8ee5');\n",
              "          const dataTable =\n",
              "            await google.colab.kernel.invokeFunction('convertToInteractive',\n",
              "                                                     [key], {});\n",
              "          if (!dataTable) return;\n",
              "\n",
              "          const docLinkHtml = 'Like what you see? Visit the ' +\n",
              "            '<a target=\"_blank\" href=https://colab.research.google.com/notebooks/data_table.ipynb>data table notebook</a>'\n",
              "            + ' to learn more about interactive tables.';\n",
              "          element.innerHTML = '';\n",
              "          dataTable['output_type'] = 'display_data';\n",
              "          await google.colab.output.renderOutput(dataTable, element);\n",
              "          const docLink = document.createElement('div');\n",
              "          docLink.innerHTML = docLinkHtml;\n",
              "          element.appendChild(docLink);\n",
              "        }\n",
              "      </script>\n",
              "    </div>\n",
              "  </div>\n",
              "  "
            ]
          },
          "metadata": {},
          "execution_count": 2
        }
      ]
    },
    {
      "cell_type": "code",
      "source": [
        "df.info()"
      ],
      "metadata": {
        "colab": {
          "base_uri": "https://localhost:8080/"
        },
        "id": "PZOWma9mtzR7",
        "outputId": "c8a756c1-d6e7-4691-e867-923461f72e18"
      },
      "execution_count": 3,
      "outputs": [
        {
          "output_type": "stream",
          "name": "stdout",
          "text": [
            "<class 'pandas.core.frame.DataFrame'>\n",
            "RangeIndex: 48842 entries, 0 to 48841\n",
            "Data columns (total 15 columns):\n",
            " #   Column           Non-Null Count  Dtype \n",
            "---  ------           --------------  ----- \n",
            " 0   age              48842 non-null  int64 \n",
            " 1   workclass        48842 non-null  object\n",
            " 2   fnlwgt           48842 non-null  int64 \n",
            " 3   education        48842 non-null  object\n",
            " 4   educational-num  48842 non-null  int64 \n",
            " 5   marital-status   48842 non-null  object\n",
            " 6   occupation       48842 non-null  object\n",
            " 7   relationship     48842 non-null  object\n",
            " 8   race             48842 non-null  object\n",
            " 9   gender           48842 non-null  object\n",
            " 10  capital-gain     48842 non-null  int64 \n",
            " 11  capital-loss     48842 non-null  int64 \n",
            " 12  hours-per-week   48842 non-null  int64 \n",
            " 13  native-country   48842 non-null  object\n",
            " 14  income           48842 non-null  object\n",
            "dtypes: int64(6), object(9)\n",
            "memory usage: 5.6+ MB\n"
          ]
        }
      ]
    },
    {
      "cell_type": "markdown",
      "source": [
        "- There are no missing values\n",
        "- There are 48842 rows and 15 columns"
      ],
      "metadata": {
        "id": "mu4ABLG3yp3q"
      }
    },
    {
      "cell_type": "markdown",
      "source": [
        "##Drop Irrelevant Columns"
      ],
      "metadata": {
        "id": "TMSjBe33ycEB"
      }
    },
    {
      "cell_type": "code",
      "source": [
        "df = df.drop(columns=[\"fnlwgt\", \"educational-num\", \"relationship\"])\n",
        "df.head()"
      ],
      "metadata": {
        "colab": {
          "base_uri": "https://localhost:8080/",
          "height": 204
        },
        "id": "wqiS0lM_w4By",
        "outputId": "6b512c38-5241-4fbd-a111-8573cce1f93d"
      },
      "execution_count": 4,
      "outputs": [
        {
          "output_type": "execute_result",
          "data": {
            "text/plain": [
              "   age  workclass     education      marital-status         occupation   race  \\\n",
              "0   25    Private          11th       Never-married  Machine-op-inspct  Black   \n",
              "1   38    Private       HS-grad  Married-civ-spouse    Farming-fishing  White   \n",
              "2   28  Local-gov    Assoc-acdm  Married-civ-spouse    Protective-serv  White   \n",
              "3   44    Private  Some-college  Married-civ-spouse  Machine-op-inspct  Black   \n",
              "4   18          ?  Some-college       Never-married                  ?  White   \n",
              "\n",
              "   gender  capital-gain  capital-loss  hours-per-week native-country income  \n",
              "0    Male             0             0              40  United-States  <=50K  \n",
              "1    Male             0             0              50  United-States  <=50K  \n",
              "2    Male             0             0              40  United-States   >50K  \n",
              "3    Male          7688             0              40  United-States   >50K  \n",
              "4  Female             0             0              30  United-States  <=50K  "
            ],
            "text/html": [
              "\n",
              "  <div id=\"df-39595d32-1a21-45d9-bcf5-64101f665be9\">\n",
              "    <div class=\"colab-df-container\">\n",
              "      <div>\n",
              "<style scoped>\n",
              "    .dataframe tbody tr th:only-of-type {\n",
              "        vertical-align: middle;\n",
              "    }\n",
              "\n",
              "    .dataframe tbody tr th {\n",
              "        vertical-align: top;\n",
              "    }\n",
              "\n",
              "    .dataframe thead th {\n",
              "        text-align: right;\n",
              "    }\n",
              "</style>\n",
              "<table border=\"1\" class=\"dataframe\">\n",
              "  <thead>\n",
              "    <tr style=\"text-align: right;\">\n",
              "      <th></th>\n",
              "      <th>age</th>\n",
              "      <th>workclass</th>\n",
              "      <th>education</th>\n",
              "      <th>marital-status</th>\n",
              "      <th>occupation</th>\n",
              "      <th>race</th>\n",
              "      <th>gender</th>\n",
              "      <th>capital-gain</th>\n",
              "      <th>capital-loss</th>\n",
              "      <th>hours-per-week</th>\n",
              "      <th>native-country</th>\n",
              "      <th>income</th>\n",
              "    </tr>\n",
              "  </thead>\n",
              "  <tbody>\n",
              "    <tr>\n",
              "      <th>0</th>\n",
              "      <td>25</td>\n",
              "      <td>Private</td>\n",
              "      <td>11th</td>\n",
              "      <td>Never-married</td>\n",
              "      <td>Machine-op-inspct</td>\n",
              "      <td>Black</td>\n",
              "      <td>Male</td>\n",
              "      <td>0</td>\n",
              "      <td>0</td>\n",
              "      <td>40</td>\n",
              "      <td>United-States</td>\n",
              "      <td>&lt;=50K</td>\n",
              "    </tr>\n",
              "    <tr>\n",
              "      <th>1</th>\n",
              "      <td>38</td>\n",
              "      <td>Private</td>\n",
              "      <td>HS-grad</td>\n",
              "      <td>Married-civ-spouse</td>\n",
              "      <td>Farming-fishing</td>\n",
              "      <td>White</td>\n",
              "      <td>Male</td>\n",
              "      <td>0</td>\n",
              "      <td>0</td>\n",
              "      <td>50</td>\n",
              "      <td>United-States</td>\n",
              "      <td>&lt;=50K</td>\n",
              "    </tr>\n",
              "    <tr>\n",
              "      <th>2</th>\n",
              "      <td>28</td>\n",
              "      <td>Local-gov</td>\n",
              "      <td>Assoc-acdm</td>\n",
              "      <td>Married-civ-spouse</td>\n",
              "      <td>Protective-serv</td>\n",
              "      <td>White</td>\n",
              "      <td>Male</td>\n",
              "      <td>0</td>\n",
              "      <td>0</td>\n",
              "      <td>40</td>\n",
              "      <td>United-States</td>\n",
              "      <td>&gt;50K</td>\n",
              "    </tr>\n",
              "    <tr>\n",
              "      <th>3</th>\n",
              "      <td>44</td>\n",
              "      <td>Private</td>\n",
              "      <td>Some-college</td>\n",
              "      <td>Married-civ-spouse</td>\n",
              "      <td>Machine-op-inspct</td>\n",
              "      <td>Black</td>\n",
              "      <td>Male</td>\n",
              "      <td>7688</td>\n",
              "      <td>0</td>\n",
              "      <td>40</td>\n",
              "      <td>United-States</td>\n",
              "      <td>&gt;50K</td>\n",
              "    </tr>\n",
              "    <tr>\n",
              "      <th>4</th>\n",
              "      <td>18</td>\n",
              "      <td>?</td>\n",
              "      <td>Some-college</td>\n",
              "      <td>Never-married</td>\n",
              "      <td>?</td>\n",
              "      <td>White</td>\n",
              "      <td>Female</td>\n",
              "      <td>0</td>\n",
              "      <td>0</td>\n",
              "      <td>30</td>\n",
              "      <td>United-States</td>\n",
              "      <td>&lt;=50K</td>\n",
              "    </tr>\n",
              "  </tbody>\n",
              "</table>\n",
              "</div>\n",
              "      <button class=\"colab-df-convert\" onclick=\"convertToInteractive('df-39595d32-1a21-45d9-bcf5-64101f665be9')\"\n",
              "              title=\"Convert this dataframe to an interactive table.\"\n",
              "              style=\"display:none;\">\n",
              "        \n",
              "  <svg xmlns=\"http://www.w3.org/2000/svg\" height=\"24px\"viewBox=\"0 0 24 24\"\n",
              "       width=\"24px\">\n",
              "    <path d=\"M0 0h24v24H0V0z\" fill=\"none\"/>\n",
              "    <path d=\"M18.56 5.44l.94 2.06.94-2.06 2.06-.94-2.06-.94-.94-2.06-.94 2.06-2.06.94zm-11 1L8.5 8.5l.94-2.06 2.06-.94-2.06-.94L8.5 2.5l-.94 2.06-2.06.94zm10 10l.94 2.06.94-2.06 2.06-.94-2.06-.94-.94-2.06-.94 2.06-2.06.94z\"/><path d=\"M17.41 7.96l-1.37-1.37c-.4-.4-.92-.59-1.43-.59-.52 0-1.04.2-1.43.59L10.3 9.45l-7.72 7.72c-.78.78-.78 2.05 0 2.83L4 21.41c.39.39.9.59 1.41.59.51 0 1.02-.2 1.41-.59l7.78-7.78 2.81-2.81c.8-.78.8-2.07 0-2.86zM5.41 20L4 18.59l7.72-7.72 1.47 1.35L5.41 20z\"/>\n",
              "  </svg>\n",
              "      </button>\n",
              "      \n",
              "  <style>\n",
              "    .colab-df-container {\n",
              "      display:flex;\n",
              "      flex-wrap:wrap;\n",
              "      gap: 12px;\n",
              "    }\n",
              "\n",
              "    .colab-df-convert {\n",
              "      background-color: #E8F0FE;\n",
              "      border: none;\n",
              "      border-radius: 50%;\n",
              "      cursor: pointer;\n",
              "      display: none;\n",
              "      fill: #1967D2;\n",
              "      height: 32px;\n",
              "      padding: 0 0 0 0;\n",
              "      width: 32px;\n",
              "    }\n",
              "\n",
              "    .colab-df-convert:hover {\n",
              "      background-color: #E2EBFA;\n",
              "      box-shadow: 0px 1px 2px rgba(60, 64, 67, 0.3), 0px 1px 3px 1px rgba(60, 64, 67, 0.15);\n",
              "      fill: #174EA6;\n",
              "    }\n",
              "\n",
              "    [theme=dark] .colab-df-convert {\n",
              "      background-color: #3B4455;\n",
              "      fill: #D2E3FC;\n",
              "    }\n",
              "\n",
              "    [theme=dark] .colab-df-convert:hover {\n",
              "      background-color: #434B5C;\n",
              "      box-shadow: 0px 1px 3px 1px rgba(0, 0, 0, 0.15);\n",
              "      filter: drop-shadow(0px 1px 2px rgba(0, 0, 0, 0.3));\n",
              "      fill: #FFFFFF;\n",
              "    }\n",
              "  </style>\n",
              "\n",
              "      <script>\n",
              "        const buttonEl =\n",
              "          document.querySelector('#df-39595d32-1a21-45d9-bcf5-64101f665be9 button.colab-df-convert');\n",
              "        buttonEl.style.display =\n",
              "          google.colab.kernel.accessAllowed ? 'block' : 'none';\n",
              "\n",
              "        async function convertToInteractive(key) {\n",
              "          const element = document.querySelector('#df-39595d32-1a21-45d9-bcf5-64101f665be9');\n",
              "          const dataTable =\n",
              "            await google.colab.kernel.invokeFunction('convertToInteractive',\n",
              "                                                     [key], {});\n",
              "          if (!dataTable) return;\n",
              "\n",
              "          const docLinkHtml = 'Like what you see? Visit the ' +\n",
              "            '<a target=\"_blank\" href=https://colab.research.google.com/notebooks/data_table.ipynb>data table notebook</a>'\n",
              "            + ' to learn more about interactive tables.';\n",
              "          element.innerHTML = '';\n",
              "          dataTable['output_type'] = 'display_data';\n",
              "          await google.colab.output.renderOutput(dataTable, element);\n",
              "          const docLink = document.createElement('div');\n",
              "          docLink.innerHTML = docLinkHtml;\n",
              "          element.appendChild(docLink);\n",
              "        }\n",
              "      </script>\n",
              "    </div>\n",
              "  </div>\n",
              "  "
            ]
          },
          "metadata": {},
          "execution_count": 4
        }
      ]
    },
    {
      "cell_type": "markdown",
      "source": [
        "- \"fnlwgt\" and \"educational-num\" are not relevant to outcomes\n",
        "- \"Relationship\" gives the same information as \"marital-status\""
      ],
      "metadata": {
        "id": "GF1rqp22_YCU"
      }
    },
    {
      "cell_type": "code",
      "source": [
        "pd.set_option(\"display.max_columns\", None)\n",
        "df.describe()"
      ],
      "metadata": {
        "colab": {
          "base_uri": "https://localhost:8080/",
          "height": 297
        },
        "id": "yilrk1VLxYyw",
        "outputId": "eecfce64-a09d-4d4d-fd14-f1f5f94abe02"
      },
      "execution_count": 5,
      "outputs": [
        {
          "output_type": "execute_result",
          "data": {
            "text/plain": [
              "                age  capital-gain  capital-loss  hours-per-week\n",
              "count  48842.000000  48842.000000  48842.000000    48842.000000\n",
              "mean      38.643585   1079.067626     87.502314       40.422382\n",
              "std       13.710510   7452.019058    403.004552       12.391444\n",
              "min       17.000000      0.000000      0.000000        1.000000\n",
              "25%       28.000000      0.000000      0.000000       40.000000\n",
              "50%       37.000000      0.000000      0.000000       40.000000\n",
              "75%       48.000000      0.000000      0.000000       45.000000\n",
              "max       90.000000  99999.000000   4356.000000       99.000000"
            ],
            "text/html": [
              "\n",
              "  <div id=\"df-1e06352b-6b4b-41ee-b81b-24ff991372d1\">\n",
              "    <div class=\"colab-df-container\">\n",
              "      <div>\n",
              "<style scoped>\n",
              "    .dataframe tbody tr th:only-of-type {\n",
              "        vertical-align: middle;\n",
              "    }\n",
              "\n",
              "    .dataframe tbody tr th {\n",
              "        vertical-align: top;\n",
              "    }\n",
              "\n",
              "    .dataframe thead th {\n",
              "        text-align: right;\n",
              "    }\n",
              "</style>\n",
              "<table border=\"1\" class=\"dataframe\">\n",
              "  <thead>\n",
              "    <tr style=\"text-align: right;\">\n",
              "      <th></th>\n",
              "      <th>age</th>\n",
              "      <th>capital-gain</th>\n",
              "      <th>capital-loss</th>\n",
              "      <th>hours-per-week</th>\n",
              "    </tr>\n",
              "  </thead>\n",
              "  <tbody>\n",
              "    <tr>\n",
              "      <th>count</th>\n",
              "      <td>48842.000000</td>\n",
              "      <td>48842.000000</td>\n",
              "      <td>48842.000000</td>\n",
              "      <td>48842.000000</td>\n",
              "    </tr>\n",
              "    <tr>\n",
              "      <th>mean</th>\n",
              "      <td>38.643585</td>\n",
              "      <td>1079.067626</td>\n",
              "      <td>87.502314</td>\n",
              "      <td>40.422382</td>\n",
              "    </tr>\n",
              "    <tr>\n",
              "      <th>std</th>\n",
              "      <td>13.710510</td>\n",
              "      <td>7452.019058</td>\n",
              "      <td>403.004552</td>\n",
              "      <td>12.391444</td>\n",
              "    </tr>\n",
              "    <tr>\n",
              "      <th>min</th>\n",
              "      <td>17.000000</td>\n",
              "      <td>0.000000</td>\n",
              "      <td>0.000000</td>\n",
              "      <td>1.000000</td>\n",
              "    </tr>\n",
              "    <tr>\n",
              "      <th>25%</th>\n",
              "      <td>28.000000</td>\n",
              "      <td>0.000000</td>\n",
              "      <td>0.000000</td>\n",
              "      <td>40.000000</td>\n",
              "    </tr>\n",
              "    <tr>\n",
              "      <th>50%</th>\n",
              "      <td>37.000000</td>\n",
              "      <td>0.000000</td>\n",
              "      <td>0.000000</td>\n",
              "      <td>40.000000</td>\n",
              "    </tr>\n",
              "    <tr>\n",
              "      <th>75%</th>\n",
              "      <td>48.000000</td>\n",
              "      <td>0.000000</td>\n",
              "      <td>0.000000</td>\n",
              "      <td>45.000000</td>\n",
              "    </tr>\n",
              "    <tr>\n",
              "      <th>max</th>\n",
              "      <td>90.000000</td>\n",
              "      <td>99999.000000</td>\n",
              "      <td>4356.000000</td>\n",
              "      <td>99.000000</td>\n",
              "    </tr>\n",
              "  </tbody>\n",
              "</table>\n",
              "</div>\n",
              "      <button class=\"colab-df-convert\" onclick=\"convertToInteractive('df-1e06352b-6b4b-41ee-b81b-24ff991372d1')\"\n",
              "              title=\"Convert this dataframe to an interactive table.\"\n",
              "              style=\"display:none;\">\n",
              "        \n",
              "  <svg xmlns=\"http://www.w3.org/2000/svg\" height=\"24px\"viewBox=\"0 0 24 24\"\n",
              "       width=\"24px\">\n",
              "    <path d=\"M0 0h24v24H0V0z\" fill=\"none\"/>\n",
              "    <path d=\"M18.56 5.44l.94 2.06.94-2.06 2.06-.94-2.06-.94-.94-2.06-.94 2.06-2.06.94zm-11 1L8.5 8.5l.94-2.06 2.06-.94-2.06-.94L8.5 2.5l-.94 2.06-2.06.94zm10 10l.94 2.06.94-2.06 2.06-.94-2.06-.94-.94-2.06-.94 2.06-2.06.94z\"/><path d=\"M17.41 7.96l-1.37-1.37c-.4-.4-.92-.59-1.43-.59-.52 0-1.04.2-1.43.59L10.3 9.45l-7.72 7.72c-.78.78-.78 2.05 0 2.83L4 21.41c.39.39.9.59 1.41.59.51 0 1.02-.2 1.41-.59l7.78-7.78 2.81-2.81c.8-.78.8-2.07 0-2.86zM5.41 20L4 18.59l7.72-7.72 1.47 1.35L5.41 20z\"/>\n",
              "  </svg>\n",
              "      </button>\n",
              "      \n",
              "  <style>\n",
              "    .colab-df-container {\n",
              "      display:flex;\n",
              "      flex-wrap:wrap;\n",
              "      gap: 12px;\n",
              "    }\n",
              "\n",
              "    .colab-df-convert {\n",
              "      background-color: #E8F0FE;\n",
              "      border: none;\n",
              "      border-radius: 50%;\n",
              "      cursor: pointer;\n",
              "      display: none;\n",
              "      fill: #1967D2;\n",
              "      height: 32px;\n",
              "      padding: 0 0 0 0;\n",
              "      width: 32px;\n",
              "    }\n",
              "\n",
              "    .colab-df-convert:hover {\n",
              "      background-color: #E2EBFA;\n",
              "      box-shadow: 0px 1px 2px rgba(60, 64, 67, 0.3), 0px 1px 3px 1px rgba(60, 64, 67, 0.15);\n",
              "      fill: #174EA6;\n",
              "    }\n",
              "\n",
              "    [theme=dark] .colab-df-convert {\n",
              "      background-color: #3B4455;\n",
              "      fill: #D2E3FC;\n",
              "    }\n",
              "\n",
              "    [theme=dark] .colab-df-convert:hover {\n",
              "      background-color: #434B5C;\n",
              "      box-shadow: 0px 1px 3px 1px rgba(0, 0, 0, 0.15);\n",
              "      filter: drop-shadow(0px 1px 2px rgba(0, 0, 0, 0.3));\n",
              "      fill: #FFFFFF;\n",
              "    }\n",
              "  </style>\n",
              "\n",
              "      <script>\n",
              "        const buttonEl =\n",
              "          document.querySelector('#df-1e06352b-6b4b-41ee-b81b-24ff991372d1 button.colab-df-convert');\n",
              "        buttonEl.style.display =\n",
              "          google.colab.kernel.accessAllowed ? 'block' : 'none';\n",
              "\n",
              "        async function convertToInteractive(key) {\n",
              "          const element = document.querySelector('#df-1e06352b-6b4b-41ee-b81b-24ff991372d1');\n",
              "          const dataTable =\n",
              "            await google.colab.kernel.invokeFunction('convertToInteractive',\n",
              "                                                     [key], {});\n",
              "          if (!dataTable) return;\n",
              "\n",
              "          const docLinkHtml = 'Like what you see? Visit the ' +\n",
              "            '<a target=\"_blank\" href=https://colab.research.google.com/notebooks/data_table.ipynb>data table notebook</a>'\n",
              "            + ' to learn more about interactive tables.';\n",
              "          element.innerHTML = '';\n",
              "          dataTable['output_type'] = 'display_data';\n",
              "          await google.colab.output.renderOutput(dataTable, element);\n",
              "          const docLink = document.createElement('div');\n",
              "          docLink.innerHTML = docLinkHtml;\n",
              "          element.appendChild(docLink);\n",
              "        }\n",
              "      </script>\n",
              "    </div>\n",
              "  </div>\n",
              "  "
            ]
          },
          "metadata": {},
          "execution_count": 5
        }
      ]
    },
    {
      "cell_type": "markdown",
      "source": [
        "##Drop Duplicates"
      ],
      "metadata": {
        "id": "XnVQA7cpzILE"
      }
    },
    {
      "cell_type": "code",
      "source": [
        "df.duplicated().sum()"
      ],
      "metadata": {
        "colab": {
          "base_uri": "https://localhost:8080/"
        },
        "id": "HvroQHbqvDI1",
        "outputId": "4876493c-1ec0-4067-8fc6-ec0a3dffbb0a"
      },
      "execution_count": 6,
      "outputs": [
        {
          "output_type": "execute_result",
          "data": {
            "text/plain": [
              "7916"
            ]
          },
          "metadata": {},
          "execution_count": 6
        }
      ]
    },
    {
      "cell_type": "code",
      "source": [
        "df.drop_duplicates(inplace=True)"
      ],
      "metadata": {
        "id": "47MNQHpKvjLc"
      },
      "execution_count": 7,
      "outputs": []
    },
    {
      "cell_type": "code",
      "source": [
        "df.duplicated().sum()"
      ],
      "metadata": {
        "colab": {
          "base_uri": "https://localhost:8080/"
        },
        "id": "CnRnvYdXvmen",
        "outputId": "c5bd9295-cd65-4071-c117-35b1b7872160"
      },
      "execution_count": 8,
      "outputs": [
        {
          "output_type": "execute_result",
          "data": {
            "text/plain": [
              "0"
            ]
          },
          "metadata": {},
          "execution_count": 8
        }
      ]
    },
    {
      "cell_type": "code",
      "source": [
        "df.isna().sum()"
      ],
      "metadata": {
        "colab": {
          "base_uri": "https://localhost:8080/"
        },
        "id": "5A0cwcymvojJ",
        "outputId": "16eeae69-d6b6-4131-a412-add2c7053f5b"
      },
      "execution_count": 9,
      "outputs": [
        {
          "output_type": "execute_result",
          "data": {
            "text/plain": [
              "age               0\n",
              "workclass         0\n",
              "education         0\n",
              "marital-status    0\n",
              "occupation        0\n",
              "race              0\n",
              "gender            0\n",
              "capital-gain      0\n",
              "capital-loss      0\n",
              "hours-per-week    0\n",
              "native-country    0\n",
              "income            0\n",
              "dtype: int64"
            ]
          },
          "metadata": {},
          "execution_count": 9
        }
      ]
    },
    {
      "cell_type": "markdown",
      "source": [
        "##Check Data Inconsitencies"
      ],
      "metadata": {
        "id": "JBtDAG5FzCvv"
      }
    },
    {
      "cell_type": "code",
      "source": [
        "dtypes=df.dtypes\n",
        "str_cols = dtypes[dtypes==\"object\"].index\n",
        "str_cols"
      ],
      "metadata": {
        "colab": {
          "base_uri": "https://localhost:8080/"
        },
        "id": "VBXT8YKtvssI",
        "outputId": "d7526e76-8a9c-4086-ec13-304dbfa3dca1"
      },
      "execution_count": 10,
      "outputs": [
        {
          "output_type": "execute_result",
          "data": {
            "text/plain": [
              "Index(['workclass', 'education', 'marital-status', 'occupation', 'race',\n",
              "       'gender', 'native-country', 'income'],\n",
              "      dtype='object')"
            ]
          },
          "metadata": {},
          "execution_count": 10
        }
      ]
    },
    {
      "cell_type": "code",
      "source": [
        "#check column information for inconsistencies\n",
        "for col in str_cols:\n",
        "  print(f\"-Column= {col}\")\n",
        "  print(df[col].value_counts(dropna=False))\n",
        "  print(\"/n/n\")"
      ],
      "metadata": {
        "colab": {
          "base_uri": "https://localhost:8080/"
        },
        "id": "z_7wbnQiv0Xd",
        "outputId": "b64b8477-f76d-4978-b8a8-8a1c3a3920d8"
      },
      "execution_count": 11,
      "outputs": [
        {
          "output_type": "stream",
          "name": "stdout",
          "text": [
            "-Column= workclass\n",
            "Private             26927\n",
            "Self-emp-not-inc     3721\n",
            "Local-gov            2982\n",
            "?                    2324\n",
            "State-gov            1910\n",
            "Self-emp-inc         1644\n",
            "Federal-gov          1387\n",
            "Without-pay            21\n",
            "Never-worked           10\n",
            "Name: workclass, dtype: int64\n",
            "/n/n\n",
            "-Column= education\n",
            "HS-grad         12170\n",
            "Some-college     8741\n",
            "Bachelors        6766\n",
            "Masters          2482\n",
            "Assoc-voc        1930\n",
            "11th             1560\n",
            "Assoc-acdm       1547\n",
            "10th             1256\n",
            "7th-8th           928\n",
            "Prof-school       811\n",
            "9th               734\n",
            "12th              606\n",
            "Doctorate         576\n",
            "5th-6th           496\n",
            "1st-4th           242\n",
            "Preschool          81\n",
            "Name: education, dtype: int64\n",
            "/n/n\n",
            "-Column= marital-status\n",
            "Married-civ-spouse       19178\n",
            "Never-married            12189\n",
            "Divorced                  5919\n",
            "Widowed                   1489\n",
            "Separated                 1488\n",
            "Married-spouse-absent      626\n",
            "Married-AF-spouse           37\n",
            "Name: marital-status, dtype: int64\n",
            "/n/n\n",
            "-Column= occupation\n",
            "Prof-specialty       5578\n",
            "Exec-managerial      5298\n",
            "Sales                4572\n",
            "Craft-repair         4554\n",
            "Adm-clerical         4483\n",
            "Other-service        4117\n",
            "Machine-op-inspct    2364\n",
            "?                    2334\n",
            "Transport-moving     2041\n",
            "Handlers-cleaners    1650\n",
            "Farming-fishing      1421\n",
            "Tech-support         1321\n",
            "Protective-serv       939\n",
            "Priv-house-serv       239\n",
            "Armed-Forces           15\n",
            "Name: occupation, dtype: int64\n",
            "/n/n\n",
            "-Column= race\n",
            "White                 34127\n",
            "Black                  4410\n",
            "Asian-Pac-Islander     1513\n",
            "Amer-Indian-Eskimo      470\n",
            "Other                   406\n",
            "Name: race, dtype: int64\n",
            "/n/n\n",
            "-Column= gender\n",
            "Male      27265\n",
            "Female    13661\n",
            "Name: gender, dtype: int64\n",
            "/n/n\n",
            "-Column= native-country\n",
            "United-States                 35962\n",
            "Mexico                          922\n",
            "?                               850\n",
            "Philippines                     292\n",
            "Germany                         205\n",
            "Puerto-Rico                     184\n",
            "Canada                          182\n",
            "El-Salvador                     154\n",
            "India                           151\n",
            "Cuba                            138\n",
            "England                         127\n",
            "China                           122\n",
            "South                           115\n",
            "Jamaica                         105\n",
            "Italy                           105\n",
            "Dominican-Republic              103\n",
            "Japan                            92\n",
            "Poland                           87\n",
            "Guatemala                        86\n",
            "Vietnam                          85\n",
            "Columbia                         85\n",
            "Haiti                            75\n",
            "Portugal                         67\n",
            "Taiwan                           65\n",
            "Iran                             59\n",
            "Greece                           49\n",
            "Nicaragua                        49\n",
            "Peru                             46\n",
            "Ecuador                          45\n",
            "France                           38\n",
            "Ireland                          36\n",
            "Hong                             30\n",
            "Thailand                         30\n",
            "Cambodia                         28\n",
            "Trinadad&Tobago                  27\n",
            "Laos                             23\n",
            "Yugoslavia                       23\n",
            "Outlying-US(Guam-USVI-etc)       23\n",
            "Scotland                         21\n",
            "Honduras                         20\n",
            "Hungary                          19\n",
            "Holand-Netherlands                1\n",
            "Name: native-country, dtype: int64\n",
            "/n/n\n",
            "-Column= income\n",
            "<=50K    30488\n",
            ">50K     10438\n",
            "Name: income, dtype: int64\n",
            "/n/n\n"
          ]
        }
      ]
    },
    {
      "cell_type": "code",
      "source": [
        "#Drop rows with ? as an entry\n",
        "df.drop(df[df[\"workclass\"] == \"?\"].index, inplace=True)\n",
        "df.drop(df[df[\"occupation\"] == \"?\"].index, inplace=True)\n",
        "#Rename native-country to remove the \"-\"\n",
        "df = df.rename(columns = {\"native-country\": \"nativecountry\"})\n",
        "df.drop(df[df[\"nativecountry\"] == '?'].index, inplace=True)\n",
        "df.head()"
      ],
      "metadata": {
        "colab": {
          "base_uri": "https://localhost:8080/",
          "height": 204
        },
        "id": "a6oiIJD9O02g",
        "outputId": "c38c1926-a17c-49a2-8d28-08945bfc3d1c"
      },
      "execution_count": 12,
      "outputs": [
        {
          "output_type": "execute_result",
          "data": {
            "text/plain": [
              "   age  workclass     education      marital-status         occupation   race  \\\n",
              "0   25    Private          11th       Never-married  Machine-op-inspct  Black   \n",
              "1   38    Private       HS-grad  Married-civ-spouse    Farming-fishing  White   \n",
              "2   28  Local-gov    Assoc-acdm  Married-civ-spouse    Protective-serv  White   \n",
              "3   44    Private  Some-college  Married-civ-spouse  Machine-op-inspct  Black   \n",
              "5   34    Private          10th       Never-married      Other-service  White   \n",
              "\n",
              "  gender  capital-gain  capital-loss  hours-per-week  nativecountry income  \n",
              "0   Male             0             0              40  United-States  <=50K  \n",
              "1   Male             0             0              50  United-States  <=50K  \n",
              "2   Male             0             0              40  United-States   >50K  \n",
              "3   Male          7688             0              40  United-States   >50K  \n",
              "5   Male             0             0              30  United-States  <=50K  "
            ],
            "text/html": [
              "\n",
              "  <div id=\"df-b5550523-fb6a-49ea-8fed-c7018376f2e7\">\n",
              "    <div class=\"colab-df-container\">\n",
              "      <div>\n",
              "<style scoped>\n",
              "    .dataframe tbody tr th:only-of-type {\n",
              "        vertical-align: middle;\n",
              "    }\n",
              "\n",
              "    .dataframe tbody tr th {\n",
              "        vertical-align: top;\n",
              "    }\n",
              "\n",
              "    .dataframe thead th {\n",
              "        text-align: right;\n",
              "    }\n",
              "</style>\n",
              "<table border=\"1\" class=\"dataframe\">\n",
              "  <thead>\n",
              "    <tr style=\"text-align: right;\">\n",
              "      <th></th>\n",
              "      <th>age</th>\n",
              "      <th>workclass</th>\n",
              "      <th>education</th>\n",
              "      <th>marital-status</th>\n",
              "      <th>occupation</th>\n",
              "      <th>race</th>\n",
              "      <th>gender</th>\n",
              "      <th>capital-gain</th>\n",
              "      <th>capital-loss</th>\n",
              "      <th>hours-per-week</th>\n",
              "      <th>nativecountry</th>\n",
              "      <th>income</th>\n",
              "    </tr>\n",
              "  </thead>\n",
              "  <tbody>\n",
              "    <tr>\n",
              "      <th>0</th>\n",
              "      <td>25</td>\n",
              "      <td>Private</td>\n",
              "      <td>11th</td>\n",
              "      <td>Never-married</td>\n",
              "      <td>Machine-op-inspct</td>\n",
              "      <td>Black</td>\n",
              "      <td>Male</td>\n",
              "      <td>0</td>\n",
              "      <td>0</td>\n",
              "      <td>40</td>\n",
              "      <td>United-States</td>\n",
              "      <td>&lt;=50K</td>\n",
              "    </tr>\n",
              "    <tr>\n",
              "      <th>1</th>\n",
              "      <td>38</td>\n",
              "      <td>Private</td>\n",
              "      <td>HS-grad</td>\n",
              "      <td>Married-civ-spouse</td>\n",
              "      <td>Farming-fishing</td>\n",
              "      <td>White</td>\n",
              "      <td>Male</td>\n",
              "      <td>0</td>\n",
              "      <td>0</td>\n",
              "      <td>50</td>\n",
              "      <td>United-States</td>\n",
              "      <td>&lt;=50K</td>\n",
              "    </tr>\n",
              "    <tr>\n",
              "      <th>2</th>\n",
              "      <td>28</td>\n",
              "      <td>Local-gov</td>\n",
              "      <td>Assoc-acdm</td>\n",
              "      <td>Married-civ-spouse</td>\n",
              "      <td>Protective-serv</td>\n",
              "      <td>White</td>\n",
              "      <td>Male</td>\n",
              "      <td>0</td>\n",
              "      <td>0</td>\n",
              "      <td>40</td>\n",
              "      <td>United-States</td>\n",
              "      <td>&gt;50K</td>\n",
              "    </tr>\n",
              "    <tr>\n",
              "      <th>3</th>\n",
              "      <td>44</td>\n",
              "      <td>Private</td>\n",
              "      <td>Some-college</td>\n",
              "      <td>Married-civ-spouse</td>\n",
              "      <td>Machine-op-inspct</td>\n",
              "      <td>Black</td>\n",
              "      <td>Male</td>\n",
              "      <td>7688</td>\n",
              "      <td>0</td>\n",
              "      <td>40</td>\n",
              "      <td>United-States</td>\n",
              "      <td>&gt;50K</td>\n",
              "    </tr>\n",
              "    <tr>\n",
              "      <th>5</th>\n",
              "      <td>34</td>\n",
              "      <td>Private</td>\n",
              "      <td>10th</td>\n",
              "      <td>Never-married</td>\n",
              "      <td>Other-service</td>\n",
              "      <td>White</td>\n",
              "      <td>Male</td>\n",
              "      <td>0</td>\n",
              "      <td>0</td>\n",
              "      <td>30</td>\n",
              "      <td>United-States</td>\n",
              "      <td>&lt;=50K</td>\n",
              "    </tr>\n",
              "  </tbody>\n",
              "</table>\n",
              "</div>\n",
              "      <button class=\"colab-df-convert\" onclick=\"convertToInteractive('df-b5550523-fb6a-49ea-8fed-c7018376f2e7')\"\n",
              "              title=\"Convert this dataframe to an interactive table.\"\n",
              "              style=\"display:none;\">\n",
              "        \n",
              "  <svg xmlns=\"http://www.w3.org/2000/svg\" height=\"24px\"viewBox=\"0 0 24 24\"\n",
              "       width=\"24px\">\n",
              "    <path d=\"M0 0h24v24H0V0z\" fill=\"none\"/>\n",
              "    <path d=\"M18.56 5.44l.94 2.06.94-2.06 2.06-.94-2.06-.94-.94-2.06-.94 2.06-2.06.94zm-11 1L8.5 8.5l.94-2.06 2.06-.94-2.06-.94L8.5 2.5l-.94 2.06-2.06.94zm10 10l.94 2.06.94-2.06 2.06-.94-2.06-.94-.94-2.06-.94 2.06-2.06.94z\"/><path d=\"M17.41 7.96l-1.37-1.37c-.4-.4-.92-.59-1.43-.59-.52 0-1.04.2-1.43.59L10.3 9.45l-7.72 7.72c-.78.78-.78 2.05 0 2.83L4 21.41c.39.39.9.59 1.41.59.51 0 1.02-.2 1.41-.59l7.78-7.78 2.81-2.81c.8-.78.8-2.07 0-2.86zM5.41 20L4 18.59l7.72-7.72 1.47 1.35L5.41 20z\"/>\n",
              "  </svg>\n",
              "      </button>\n",
              "      \n",
              "  <style>\n",
              "    .colab-df-container {\n",
              "      display:flex;\n",
              "      flex-wrap:wrap;\n",
              "      gap: 12px;\n",
              "    }\n",
              "\n",
              "    .colab-df-convert {\n",
              "      background-color: #E8F0FE;\n",
              "      border: none;\n",
              "      border-radius: 50%;\n",
              "      cursor: pointer;\n",
              "      display: none;\n",
              "      fill: #1967D2;\n",
              "      height: 32px;\n",
              "      padding: 0 0 0 0;\n",
              "      width: 32px;\n",
              "    }\n",
              "\n",
              "    .colab-df-convert:hover {\n",
              "      background-color: #E2EBFA;\n",
              "      box-shadow: 0px 1px 2px rgba(60, 64, 67, 0.3), 0px 1px 3px 1px rgba(60, 64, 67, 0.15);\n",
              "      fill: #174EA6;\n",
              "    }\n",
              "\n",
              "    [theme=dark] .colab-df-convert {\n",
              "      background-color: #3B4455;\n",
              "      fill: #D2E3FC;\n",
              "    }\n",
              "\n",
              "    [theme=dark] .colab-df-convert:hover {\n",
              "      background-color: #434B5C;\n",
              "      box-shadow: 0px 1px 3px 1px rgba(0, 0, 0, 0.15);\n",
              "      filter: drop-shadow(0px 1px 2px rgba(0, 0, 0, 0.3));\n",
              "      fill: #FFFFFF;\n",
              "    }\n",
              "  </style>\n",
              "\n",
              "      <script>\n",
              "        const buttonEl =\n",
              "          document.querySelector('#df-b5550523-fb6a-49ea-8fed-c7018376f2e7 button.colab-df-convert');\n",
              "        buttonEl.style.display =\n",
              "          google.colab.kernel.accessAllowed ? 'block' : 'none';\n",
              "\n",
              "        async function convertToInteractive(key) {\n",
              "          const element = document.querySelector('#df-b5550523-fb6a-49ea-8fed-c7018376f2e7');\n",
              "          const dataTable =\n",
              "            await google.colab.kernel.invokeFunction('convertToInteractive',\n",
              "                                                     [key], {});\n",
              "          if (!dataTable) return;\n",
              "\n",
              "          const docLinkHtml = 'Like what you see? Visit the ' +\n",
              "            '<a target=\"_blank\" href=https://colab.research.google.com/notebooks/data_table.ipynb>data table notebook</a>'\n",
              "            + ' to learn more about interactive tables.';\n",
              "          element.innerHTML = '';\n",
              "          dataTable['output_type'] = 'display_data';\n",
              "          await google.colab.output.renderOutput(dataTable, element);\n",
              "          const docLink = document.createElement('div');\n",
              "          docLink.innerHTML = docLinkHtml;\n",
              "          element.appendChild(docLink);\n",
              "        }\n",
              "      </script>\n",
              "    </div>\n",
              "  </div>\n",
              "  "
            ]
          },
          "metadata": {},
          "execution_count": 12
        }
      ]
    },
    {
      "cell_type": "code",
      "source": [
        "#Check value counts\n",
        "pd.set_option(\"display.max_rows\", None)\n",
        "df[\"capital-gain\"].value_counts()"
      ],
      "metadata": {
        "colab": {
          "base_uri": "https://localhost:8080/"
        },
        "id": "6f7HBbgLv3l2",
        "outputId": "66a62751-1131-4d7c-9224-f120ca7b9483"
      },
      "execution_count": 13,
      "outputs": [
        {
          "output_type": "execute_result",
          "data": {
            "text/plain": [
              "0        34037\n",
              "15024      486\n",
              "7688       381\n",
              "7298       345\n",
              "99999      226\n",
              "3103       146\n",
              "5178       135\n",
              "5013       115\n",
              "4386       101\n",
              "3325        80\n",
              "8614        78\n",
              "2174        72\n",
              "10520       64\n",
              "4650        62\n",
              "27828       56\n",
              "4064        52\n",
              "3137        49\n",
              "14084       47\n",
              "20051       44\n",
              "594         42\n",
              "6849        41\n",
              "3908        41\n",
              "13550       40\n",
              "2829        40\n",
              "14344       34\n",
              "4787        34\n",
              "1055        31\n",
              "3411        30\n",
              "3464        30\n",
              "2597        29\n",
              "2176        28\n",
              "2885        28\n",
              "4101        28\n",
              "2202        27\n",
              "4865        24\n",
              "9386        23\n",
              "1506        23\n",
              "4416        23\n",
              "2407        22\n",
              "4508        21\n",
              "3674        20\n",
              "2354        20\n",
              "2580        18\n",
              "5455        18\n",
              "2907        17\n",
              "10605       16\n",
              "3942        16\n",
              "2463        15\n",
              "6497        15\n",
              "6418        14\n",
              "7430        14\n",
              "25236       14\n",
              "3781        14\n",
              "2635        13\n",
              "1151        13\n",
              "2977        11\n",
              "2105        11\n",
              "914         10\n",
              "15020       10\n",
              "3471        10\n",
              "4934        10\n",
              "2964        10\n",
              "2653         9\n",
              "1471         9\n",
              "6514         9\n",
              "1831         9\n",
              "114          8\n",
              "2290         8\n",
              "10566        8\n",
              "1848         8\n",
              "3887         8\n",
              "1797         8\n",
              "3818         8\n",
              "15831        8\n",
              "2414         7\n",
              "7443         7\n",
              "5721         7\n",
              "3273         7\n",
              "5556         5\n",
              "1086         5\n",
              "2346         5\n",
              "2036         5\n",
              "2329         5\n",
              "9562         5\n",
              "3456         5\n",
              "1409         5\n",
              "3418         5\n",
              "34095        4\n",
              "6767         4\n",
              "4687         4\n",
              "25124        4\n",
              "2538         4\n",
              "11678        4\n",
              "991          4\n",
              "6723         4\n",
              "4931         4\n",
              "1424         4\n",
              "7896         3\n",
              "2228         3\n",
              "2936         3\n",
              "41310        3\n",
              "1455         3\n",
              "2050         3\n",
              "2062         3\n",
              "6360         3\n",
              "18481        2\n",
              "2009         2\n",
              "2961         2\n",
              "3432         2\n",
              "2993         2\n",
              "1173         2\n",
              "401          2\n",
              "6097         2\n",
              "5060         2\n",
              "7978         2\n",
              "1264         2\n",
              "22040        1\n",
              "1731         1\n",
              "7262         1\n",
              "1639         1\n",
              "2387         1\n",
              "Name: capital-gain, dtype: int64"
            ]
          },
          "metadata": {},
          "execution_count": 13
        }
      ]
    },
    {
      "cell_type": "code",
      "source": [
        "df[\"capital-loss\"].value_counts()"
      ],
      "metadata": {
        "colab": {
          "base_uri": "https://localhost:8080/"
        },
        "id": "53V1G7C1ziBH",
        "outputId": "340f901c-a8cb-45bd-9c11-73ab44a4f717"
      },
      "execution_count": 14,
      "outputs": [
        {
          "output_type": "execute_result",
          "data": {
            "text/plain": [
              "0       35666\n",
              "1902      289\n",
              "1977      243\n",
              "1887      224\n",
              "2415       66\n",
              "1485       65\n",
              "1848       64\n",
              "1876       59\n",
              "1590       58\n",
              "1740       57\n",
              "1672       48\n",
              "1741       42\n",
              "1602       40\n",
              "1564       40\n",
              "2258       39\n",
              "1980       36\n",
              "1669       34\n",
              "1719       33\n",
              "1408       32\n",
              "2002       31\n",
              "2001       31\n",
              "1579       29\n",
              "2051       29\n",
              "1974       27\n",
              "2339       24\n",
              "1504       23\n",
              "1721       22\n",
              "1628       21\n",
              "2377       21\n",
              "2444       20\n",
              "2179       19\n",
              "1762       18\n",
              "625        17\n",
              "2559       17\n",
              "2205       16\n",
              "2057       15\n",
              "2042       12\n",
              "2824       12\n",
              "1617       11\n",
              "1340       11\n",
              "1092       11\n",
              "2392       10\n",
              "1380       10\n",
              "1573       10\n",
              "1651       10\n",
              "1594        9\n",
              "1726        9\n",
              "2174        8\n",
              "2246        8\n",
              "1668        8\n",
              "2231        7\n",
              "880         6\n",
              "2206        5\n",
              "2603        5\n",
              "213         5\n",
              "2129        5\n",
              "323         5\n",
              "2547        5\n",
              "1258        5\n",
              "3770        4\n",
              "1825        4\n",
              "653         4\n",
              "1138        4\n",
              "2238        4\n",
              "3004        4\n",
              "2472        4\n",
              "1411        3\n",
              "2149        3\n",
              "1735        3\n",
              "1429        3\n",
              "2267        3\n",
              "1944        3\n",
              "1648        2\n",
              "1755        2\n",
              "3683        2\n",
              "810         2\n",
              "3900        2\n",
              "2352        2\n",
              "974         2\n",
              "1816        2\n",
              "3175        2\n",
              "2282        2\n",
              "1510        2\n",
              "2457        2\n",
              "2754        2\n",
              "1844        2\n",
              "2467        2\n",
              "1870        1\n",
              "1911        1\n",
              "2163        1\n",
              "4356        1\n",
              "2080        1\n",
              "419         1\n",
              "155         1\n",
              "1539        1\n",
              "2201        1\n",
              "1421        1\n",
              "Name: capital-loss, dtype: int64"
            ]
          },
          "metadata": {},
          "execution_count": 14
        }
      ]
    },
    {
      "cell_type": "code",
      "source": [
        "df[\"age\"].value_counts()"
      ],
      "metadata": {
        "colab": {
          "base_uri": "https://localhost:8080/"
        },
        "id": "O8JHmrfzAuVU",
        "outputId": "a493c3f7-4c79-4698-a4ca-527f5f9c9f3d"
      },
      "execution_count": 15,
      "outputs": [
        {
          "output_type": "execute_result",
          "data": {
            "text/plain": [
              "33    1087\n",
              "31    1067\n",
              "36    1066\n",
              "37    1052\n",
              "35    1046\n",
              "34    1039\n",
              "38    1035\n",
              "41    1005\n",
              "30    1002\n",
              "39    1000\n",
              "28     991\n",
              "32     986\n",
              "40     984\n",
              "42     969\n",
              "29     945\n",
              "27     938\n",
              "46     935\n",
              "45     923\n",
              "44     920\n",
              "47     917\n",
              "43     907\n",
              "23     887\n",
              "25     853\n",
              "26     850\n",
              "24     829\n",
              "22     753\n",
              "48     740\n",
              "51     736\n",
              "50     732\n",
              "49     719\n",
              "52     634\n",
              "21     625\n",
              "53     623\n",
              "20     577\n",
              "19     540\n",
              "54     530\n",
              "55     516\n",
              "18     485\n",
              "56     482\n",
              "58     474\n",
              "57     470\n",
              "59     449\n",
              "60     371\n",
              "61     364\n",
              "17     337\n",
              "62     307\n",
              "64     275\n",
              "63     269\n",
              "65     211\n",
              "66     178\n",
              "67     177\n",
              "68     136\n",
              "69     116\n",
              "70      95\n",
              "71      90\n",
              "72      83\n",
              "73      82\n",
              "74      59\n",
              "75      53\n",
              "76      46\n",
              "90      44\n",
              "77      39\n",
              "80      29\n",
              "81      27\n",
              "78      21\n",
              "79      20\n",
              "82      10\n",
              "83       9\n",
              "84       9\n",
              "85       5\n",
              "88       5\n",
              "89       1\n",
              "87       1\n",
              "86       1\n",
              "Name: age, dtype: int64"
            ]
          },
          "metadata": {},
          "execution_count": 15
        }
      ]
    },
    {
      "cell_type": "code",
      "source": [
        "df[\"workclass\"].value_counts()"
      ],
      "metadata": {
        "colab": {
          "base_uri": "https://localhost:8080/"
        },
        "id": "DaZZeG_CDhnG",
        "outputId": "ba6fbd0b-bc60-4630-b31c-1cb7eb452b18"
      },
      "execution_count": 16,
      "outputs": [
        {
          "output_type": "execute_result",
          "data": {
            "text/plain": [
              "Private             26335\n",
              "Self-emp-not-inc     3655\n",
              "Local-gov            2946\n",
              "State-gov            1875\n",
              "Self-emp-inc         1595\n",
              "Federal-gov          1361\n",
              "Without-pay            21\n",
              "Name: workclass, dtype: int64"
            ]
          },
          "metadata": {},
          "execution_count": 16
        }
      ]
    },
    {
      "cell_type": "code",
      "source": [
        "#Delete without-pay because it is statistically insignificant\n",
        "df[\"workclass\"] = df[\"workclass\"].astype(\"category\")\n",
        "df[\"workclass\"] = df[\"workclass\"].cat.remove_categories(\"Without-pay\")\n",
        "df[\"workclass\"].value_counts()"
      ],
      "metadata": {
        "colab": {
          "base_uri": "https://localhost:8080/"
        },
        "id": "CzayXi_8Gq5Z",
        "outputId": "3d4fcd42-e3c3-4ed2-8dc7-40510400052f"
      },
      "execution_count": 17,
      "outputs": [
        {
          "output_type": "execute_result",
          "data": {
            "text/plain": [
              "Private             26335\n",
              "Self-emp-not-inc     3655\n",
              "Local-gov            2946\n",
              "State-gov            1875\n",
              "Self-emp-inc         1595\n",
              "Federal-gov          1361\n",
              "Name: workclass, dtype: int64"
            ]
          },
          "metadata": {},
          "execution_count": 17
        }
      ]
    },
    {
      "cell_type": "code",
      "source": [
        "#Combine all government employees\n",
        "df['workclass'] = df['workclass'].replace({'Local-gov':'Government'})\n",
        "df['workclass'] = df['workclass'].replace({'State-gov':'Government'})\n",
        "df['workclass'] = df['workclass'].replace({'Federal-gov':'Government'})\n",
        "df['workclass'].value_counts()"
      ],
      "metadata": {
        "colab": {
          "base_uri": "https://localhost:8080/"
        },
        "id": "q_1pZyRzlAhv",
        "outputId": "4c15ab15-3182-4199-e332-a358e02a7250"
      },
      "execution_count": 18,
      "outputs": [
        {
          "output_type": "execute_result",
          "data": {
            "text/plain": [
              "Private             26335\n",
              "Government           6182\n",
              "Self-emp-not-inc     3655\n",
              "Self-emp-inc         1595\n",
              "Name: workclass, dtype: int64"
            ]
          },
          "metadata": {},
          "execution_count": 18
        }
      ]
    },
    {
      "cell_type": "code",
      "source": [
        "df[\"education\"].value_counts()"
      ],
      "metadata": {
        "colab": {
          "base_uri": "https://localhost:8080/"
        },
        "id": "x9eAaJL2IiDo",
        "outputId": "5dab1d82-b9c1-4589-d83c-e9ed7c5c515d"
      },
      "execution_count": 19,
      "outputs": [
        {
          "output_type": "execute_result",
          "data": {
            "text/plain": [
              "HS-grad         11287\n",
              "Some-college     8054\n",
              "Bachelors        6325\n",
              "Masters          2340\n",
              "Assoc-voc        1828\n",
              "Assoc-acdm       1454\n",
              "11th             1389\n",
              "10th             1118\n",
              "7th-8th           798\n",
              "Prof-school       762\n",
              "9th               655\n",
              "12th              529\n",
              "Doctorate         526\n",
              "5th-6th           436\n",
              "1st-4th           217\n",
              "Preschool          70\n",
              "Name: education, dtype: int64"
            ]
          },
          "metadata": {},
          "execution_count": 19
        }
      ]
    },
    {
      "cell_type": "code",
      "source": [
        "#Remove Preschool because it is statistically insignificant\n",
        "df[\"education\"] = df[\"education\"].astype(\"category\")\n",
        "df[\"education\"] = df[\"education\"].cat.remove_categories(\"Preschool\")\n",
        "df[\"education\"].value_counts()"
      ],
      "metadata": {
        "colab": {
          "base_uri": "https://localhost:8080/"
        },
        "id": "Mwku1K0G9FcS",
        "outputId": "d56cba31-140f-4f71-fcc4-92fa26da07a4"
      },
      "execution_count": 20,
      "outputs": [
        {
          "output_type": "execute_result",
          "data": {
            "text/plain": [
              "HS-grad         11287\n",
              "Some-college     8054\n",
              "Bachelors        6325\n",
              "Masters          2340\n",
              "Assoc-voc        1828\n",
              "Assoc-acdm       1454\n",
              "11th             1389\n",
              "10th             1118\n",
              "7th-8th           798\n",
              "Prof-school       762\n",
              "9th               655\n",
              "12th              529\n",
              "Doctorate         526\n",
              "5th-6th           436\n",
              "1st-4th           217\n",
              "Name: education, dtype: int64"
            ]
          },
          "metadata": {},
          "execution_count": 20
        }
      ]
    },
    {
      "cell_type": "code",
      "source": [
        "#Combine categories to create less categories\n",
        "df['education'] = df['education'].replace({'1st-4th':'Gradeschool'})\n",
        "df['education'] = df['education'].replace({'5th-6th':'Gradeschool'})\n",
        "df['education'] = df['education'].replace({'7th-8th':'Gradeschool'})\n",
        "df['education'] = df['education'].replace({'9th':'Highschool'})\n",
        "df['education'] = df['education'].replace({'10th':'Highschool'})\n",
        "df['education'] = df['education'].replace({'11th':'Highschool'})\n",
        "df['education'] = df['education'].replace({'12th':'Highschool_Grad'})\n",
        "df['education'] = df['education'].replace({'HS-grad':'Highschool'})\n",
        "df['education'] = df['education'].replace({'Some-college':'Undergrad'})\n",
        "df['education'] = df['education'].replace({'Bachelors':'Undergrad'})\n",
        "df['education'] = df['education'].replace({'Assoc-voc':'Undergrad'})\n",
        "df['education'] = df['education'].replace({'Assoc-acdm':'Undergrad'})\n",
        "df['education'] = df['education'].replace({'Prof-school':'Graduate'})\n",
        "df['education'] = df['education'].replace({'Masters':'Graduate'})\n",
        "df['education'] = df['education'].replace({'Doctorate':'Graduate'})\n",
        "df['education'].value_counts()"
      ],
      "metadata": {
        "colab": {
          "base_uri": "https://localhost:8080/"
        },
        "id": "1_fZUSUTg0VH",
        "outputId": "245ddbef-8a92-4510-c223-e866e3ed795e"
      },
      "execution_count": 21,
      "outputs": [
        {
          "output_type": "execute_result",
          "data": {
            "text/plain": [
              "Undergrad          17661\n",
              "Highschool         14449\n",
              "Graduate            3628\n",
              "Gradeschool         1451\n",
              "Highschool_Grad      529\n",
              "Name: education, dtype: int64"
            ]
          },
          "metadata": {},
          "execution_count": 21
        }
      ]
    },
    {
      "cell_type": "code",
      "source": [
        "df[\"marital-status\"].value_counts()"
      ],
      "metadata": {
        "colab": {
          "base_uri": "https://localhost:8080/"
        },
        "id": "2UIG7YEI-QIJ",
        "outputId": "8f4f7723-f0ee-47c3-9bbb-049dadc5b33d"
      },
      "execution_count": 22,
      "outputs": [
        {
          "output_type": "execute_result",
          "data": {
            "text/plain": [
              "Married-civ-spouse       17911\n",
              "Never-married            11079\n",
              "Divorced                  5593\n",
              "Separated                 1370\n",
              "Widowed                   1252\n",
              "Married-spouse-absent      551\n",
              "Married-AF-spouse           32\n",
              "Name: marital-status, dtype: int64"
            ]
          },
          "metadata": {},
          "execution_count": 22
        }
      ]
    },
    {
      "cell_type": "code",
      "source": [
        "#Remove Married-AF-spouse because it is statistically insignificant\n",
        "df[\"marital-status\"] = df[\"marital-status\"].astype(\"category\")\n",
        "df[\"marital-status\"] = df[\"marital-status\"].cat.remove_categories(\"Married-AF-spouse\")\n",
        "df[\"marital-status\"].value_counts()"
      ],
      "metadata": {
        "colab": {
          "base_uri": "https://localhost:8080/"
        },
        "id": "iGlDavEg-hwj",
        "outputId": "579c41c3-6f52-4fec-e607-18c5a2346677"
      },
      "execution_count": 23,
      "outputs": [
        {
          "output_type": "execute_result",
          "data": {
            "text/plain": [
              "Married-civ-spouse       17911\n",
              "Never-married            11079\n",
              "Divorced                  5593\n",
              "Separated                 1370\n",
              "Widowed                   1252\n",
              "Married-spouse-absent      551\n",
              "Name: marital-status, dtype: int64"
            ]
          },
          "metadata": {},
          "execution_count": 23
        }
      ]
    },
    {
      "cell_type": "code",
      "source": [
        "df[\"occupation\"].value_counts()"
      ],
      "metadata": {
        "colab": {
          "base_uri": "https://localhost:8080/"
        },
        "id": "unwt2Rg9-3W3",
        "outputId": "70ab8f35-ca85-41b9-c73d-437e42779f4a"
      },
      "execution_count": 24,
      "outputs": [
        {
          "output_type": "execute_result",
          "data": {
            "text/plain": [
              "Prof-specialty       5415\n",
              "Exec-managerial      5197\n",
              "Sales                4477\n",
              "Craft-repair         4462\n",
              "Adm-clerical         4413\n",
              "Other-service        4005\n",
              "Machine-op-inspct    2312\n",
              "Transport-moving     2002\n",
              "Handlers-cleaners    1624\n",
              "Farming-fishing      1411\n",
              "Tech-support         1295\n",
              "Protective-serv       932\n",
              "Priv-house-serv       229\n",
              "Armed-Forces           14\n",
              "Name: occupation, dtype: int64"
            ]
          },
          "metadata": {},
          "execution_count": 24
        }
      ]
    },
    {
      "cell_type": "code",
      "source": [
        "#Remove Armed Forces because it is statistically insignificant\n",
        "df[\"occupation\"] = df[\"occupation\"].astype(\"category\")\n",
        "df[\"occupation\"] = df[\"occupation\"].cat.remove_categories(\"Armed-Forces\")\n",
        "df[\"occupation\"].value_counts()"
      ],
      "metadata": {
        "colab": {
          "base_uri": "https://localhost:8080/"
        },
        "id": "9DdyTCkt_E9e",
        "outputId": "59dda249-1c61-40fd-b662-033dc31874c1"
      },
      "execution_count": 25,
      "outputs": [
        {
          "output_type": "execute_result",
          "data": {
            "text/plain": [
              "Prof-specialty       5415\n",
              "Exec-managerial      5197\n",
              "Sales                4477\n",
              "Craft-repair         4462\n",
              "Adm-clerical         4413\n",
              "Other-service        4005\n",
              "Machine-op-inspct    2312\n",
              "Transport-moving     2002\n",
              "Handlers-cleaners    1624\n",
              "Farming-fishing      1411\n",
              "Tech-support         1295\n",
              "Protective-serv       932\n",
              "Priv-house-serv       229\n",
              "Name: occupation, dtype: int64"
            ]
          },
          "metadata": {},
          "execution_count": 25
        }
      ]
    },
    {
      "cell_type": "code",
      "source": [
        "df[\"race\"].value_counts()"
      ],
      "metadata": {
        "colab": {
          "base_uri": "https://localhost:8080/"
        },
        "id": "tO8wRYbS_cfy",
        "outputId": "50b0e0c6-e4a9-43bc-fda2-07879ede8070"
      },
      "execution_count": 26,
      "outputs": [
        {
          "output_type": "execute_result",
          "data": {
            "text/plain": [
              "White                 31730\n",
              "Black                  3973\n",
              "Asian-Pac-Islander     1297\n",
              "Amer-Indian-Eskimo      435\n",
              "Other                   353\n",
              "Name: race, dtype: int64"
            ]
          },
          "metadata": {},
          "execution_count": 26
        }
      ]
    },
    {
      "cell_type": "code",
      "source": [
        "df[\"gender\"].value_counts()"
      ],
      "metadata": {
        "colab": {
          "base_uri": "https://localhost:8080/"
        },
        "id": "LlFLxMpb_fWb",
        "outputId": "1eed2e6c-8375-48af-fbd8-94c752044ec7"
      },
      "execution_count": 27,
      "outputs": [
        {
          "output_type": "execute_result",
          "data": {
            "text/plain": [
              "Male      25410\n",
              "Female    12378\n",
              "Name: gender, dtype: int64"
            ]
          },
          "metadata": {},
          "execution_count": 27
        }
      ]
    },
    {
      "cell_type": "code",
      "source": [
        "df[\"nativecountry\"].value_counts()"
      ],
      "metadata": {
        "colab": {
          "base_uri": "https://localhost:8080/"
        },
        "id": "1onO6K0fmFKj",
        "outputId": "a4b5d9ca-205a-4f4b-f1c4-0987391119a3"
      },
      "execution_count": 28,
      "outputs": [
        {
          "output_type": "execute_result",
          "data": {
            "text/plain": [
              "United-States                 33897\n",
              "Mexico                          874\n",
              "Philippines                     280\n",
              "Germany                         192\n",
              "Puerto-Rico                     175\n",
              "Canada                          163\n",
              "India                           147\n",
              "El-Salvador                     146\n",
              "Cuba                            133\n",
              "England                         119\n",
              "China                           113\n",
              "Jamaica                         102\n",
              "South                           101\n",
              "Italy                           100\n",
              "Dominican-Republic               97\n",
              "Japan                            89\n",
              "Guatemala                        84\n",
              "Vietnam                          82\n",
              "Columbia                         82\n",
              "Poland                           81\n",
              "Haiti                            69\n",
              "Portugal                         62\n",
              "Iran                             56\n",
              "Taiwan                           55\n",
              "Greece                           49\n",
              "Nicaragua                        48\n",
              "Peru                             45\n",
              "Ecuador                          43\n",
              "France                           36\n",
              "Ireland                          35\n",
              "Thailand                         29\n",
              "Hong                             28\n",
              "Cambodia                         26\n",
              "Trinadad&Tobago                  26\n",
              "Yugoslavia                       23\n",
              "Outlying-US(Guam-USVI-etc)       22\n",
              "Laos                             21\n",
              "Scotland                         20\n",
              "Honduras                         19\n",
              "Hungary                          18\n",
              "Holand-Netherlands                1\n",
              "Name: nativecountry, dtype: int64"
            ]
          },
          "metadata": {},
          "execution_count": 28
        }
      ]
    },
    {
      "cell_type": "code",
      "source": [
        "#Combine nations into continents\n",
        "df['nativecountry'] = df['nativecountry'].replace({'Holand-Netherlands':'Europe'})\n",
        "df['nativecountry'] = df['nativecountry'].replace({'Hungary':'Europe'})\n",
        "df['nativecountry'] = df['nativecountry'].replace({'Scotland':'Europe'})\n",
        "df['nativecountry'] = df['nativecountry'].replace({'Yugoslavia':'Europe'})\n",
        "df['nativecountry'] = df['nativecountry'].replace({'Ireland':'Europe'})\n",
        "df['nativecountry'] = df['nativecountry'].replace({'France':'Europe'})\n",
        "df['nativecountry'] = df['nativecountry'].replace({'Greece':'Europe'})\n",
        "df['nativecountry'] = df['nativecountry'].replace({'Portugal':'Europe'})\n",
        "df['nativecountry'] = df['nativecountry'].replace({'Poland':'Europe'})\n",
        "df['nativecountry'] = df['nativecountry'].replace({'Italy':'Europe'})\n",
        "df['nativecountry'] = df['nativecountry'].replace({'England':'Europe'})\n",
        "df['nativecountry'] = df['nativecountry'].replace({'Germany':'Europe'})\n",
        "df['nativecountry'] = df['nativecountry'].replace({'Honduras':'CentralSouthAmerica'})\n",
        "df['nativecountry'] = df['nativecountry'].replace({'Ecuador':'CentralSouthAmerica'})\n",
        "df['nativecountry'] = df['nativecountry'].replace({'Peru':'CentralSouthAmerica'})\n",
        "df['nativecountry'] = df['nativecountry'].replace({'Nicaragua':'CentralSouthAmerica'})\n",
        "df['nativecountry'] = df['nativecountry'].replace({'Columbia':'CentralSouthAmerica'})\n",
        "df['nativecountry'] = df['nativecountry'].replace({'Guatemala':'CentralSouthAmerica'})\n",
        "df['nativecountry'] = df['nativecountry'].replace({'El-Salvador':'CentralSouthAmerica'})\n",
        "df['nativecountry'] = df['nativecountry'].replace({'Mexico':'CentralSouthAmerica'})\n",
        "df['nativecountry'] = df['nativecountry'].replace({'Philippines':'Asia'})\n",
        "df['nativecountry'] = df['nativecountry'].replace({'India':'Asia'})\n",
        "df['nativecountry'] = df['nativecountry'].replace({'China':'Asia'})\n",
        "df['nativecountry'] = df['nativecountry'].replace({'Japan':'Asia'})\n",
        "df['nativecountry'] = df['nativecountry'].replace({'Vietnam':'Asia'})\n",
        "df['nativecountry'] = df['nativecountry'].replace({'Iran':'Asia'})\n",
        "df['nativecountry'] = df['nativecountry'].replace({'Taiwan':'Asia'})\n",
        "df['nativecountry'] = df['nativecountry'].replace({'Thailand':'Asia'})\n",
        "df['nativecountry'] = df['nativecountry'].replace({'Hong':'Asia'})\n",
        "df['nativecountry'] = df['nativecountry'].replace({'Cambodia':'Asia'})\n",
        "df['nativecountry'] = df['nativecountry'].replace({'Laos':'Asia'})\n",
        "df['nativecountry'] = df['nativecountry'].replace({'South':'Asia'})\n",
        "df['nativecountry'] = df['nativecountry'].replace({'UnitedStates':'NorthAmerica'})\n",
        "df['nativecountry'] = df['nativecountry'].replace({'Canada':'NorthAmerica'})\n",
        "df['nativecountry'] = df['nativecountry'].replace({'Outlying-US(Guam-USVI-etc)':'NorthAmerica'})\n",
        "df['nativecountry'] = df['nativecountry'].replace({'Puerto-Rico':'NorthAmerica'})\n",
        "df['nativecountry'] = df['nativecountry'].replace({'Cuba':'NorthAmerica'})\n",
        "df['nativecountry'] = df['nativecountry'].replace({'Jamaica':'NorthAmerica'})\n",
        "df['nativecountry'] = df['nativecountry'].replace({'Dominican-Republic':'NorthAmerica'})\n",
        "df['nativecountry'] = df['nativecountry'].replace({'Haiti':'NorthAmerica'})\n",
        "df['nativecountry'] = df['nativecountry'].replace({'Trinadad&Tobago':'NorthAmerica'})\n",
        "df['nativecountry'].value_counts()"
      ],
      "metadata": {
        "colab": {
          "base_uri": "https://localhost:8080/"
        },
        "id": "P_7DzTFemWzK",
        "outputId": "75624f42-4b3a-49bf-dfa1-06668a39163f"
      },
      "execution_count": 29,
      "outputs": [
        {
          "output_type": "execute_result",
          "data": {
            "text/plain": [
              "United-States          33897\n",
              "CentralSouthAmerica     1341\n",
              "Asia                    1027\n",
              "NorthAmerica             787\n",
              "Europe                   736\n",
              "Name: nativecountry, dtype: int64"
            ]
          },
          "metadata": {},
          "execution_count": 29
        }
      ]
    },
    {
      "cell_type": "markdown",
      "source": [
        "##Check for Outliers"
      ],
      "metadata": {
        "id": "8Ea13_87Dq6R"
      }
    },
    {
      "cell_type": "code",
      "source": [
        "data = df[\"age\"]\n",
        "fig, ax = plt.subplots()\n",
        "ax.boxplot([data]);"
      ],
      "metadata": {
        "colab": {
          "base_uri": "https://localhost:8080/",
          "height": 430
        },
        "id": "02_bb_FfDqVw",
        "outputId": "8353818c-3175-44ca-fdda-b7bdb3cff02f"
      },
      "execution_count": 30,
      "outputs": [
        {
          "output_type": "display_data",
          "data": {
            "text/plain": [
              "<Figure size 640x480 with 1 Axes>"
            ],
            "image/png": "[encoded data removed]"
          },
          "metadata": {}
        }
      ]
    },
    {
      "cell_type": "code",
      "source": [
        "df[\"age\"].describe().round(0)"
      ],
      "metadata": {
        "colab": {
          "base_uri": "https://localhost:8080/"
        },
        "id": "uhkplppcEzH6",
        "outputId": "2663a1e6-11e1-42b5-9238-82d7fe33a1b3"
      },
      "execution_count": 31,
      "outputs": [
        {
          "output_type": "execute_result",
          "data": {
            "text/plain": [
              "count    37788.0\n",
              "mean        40.0\n",
              "std         13.0\n",
              "min         17.0\n",
              "25%         29.0\n",
              "50%         38.0\n",
              "75%         49.0\n",
              "max         90.0\n",
              "Name: age, dtype: float64"
            ]
          },
          "metadata": {},
          "execution_count": 31
        }
      ]
    },
    {
      "cell_type": "code",
      "source": [
        "data = df[\"capital-gain\"]\n",
        "fig, ax = plt.subplots()\n",
        "ax.boxplot([data]);"
      ],
      "metadata": {
        "colab": {
          "base_uri": "https://localhost:8080/",
          "height": 430
        },
        "id": "c9FXev4bE5zc",
        "outputId": "73a47640-8647-4eb9-cb11-f185b793a5c2"
      },
      "execution_count": 32,
      "outputs": [
        {
          "output_type": "display_data",
          "data": {
            "text/plain": [
              "<Figure size 640x480 with 1 Axes>"
            ],
            "image/png": "[encoded data removed]"
          },
          "metadata": {}
        }
      ]
    },
    {
      "cell_type": "code",
      "source": [
        "df[\"capital-gain\"].describe().round(0)"
      ],
      "metadata": {
        "colab": {
          "base_uri": "https://localhost:8080/"
        },
        "id": "IESdCVhLFDtI",
        "outputId": "0cd3c959-0acf-4cc7-8a57-a1ff96dc4317"
      },
      "execution_count": 33,
      "outputs": [
        {
          "output_type": "execute_result",
          "data": {
            "text/plain": [
              "count    37788.0\n",
              "mean      1301.0\n",
              "std       8142.0\n",
              "min          0.0\n",
              "25%          0.0\n",
              "50%          0.0\n",
              "75%          0.0\n",
              "max      99999.0\n",
              "Name: capital-gain, dtype: float64"
            ]
          },
          "metadata": {},
          "execution_count": 33
        }
      ]
    },
    {
      "cell_type": "markdown",
      "source": [
        "##Univariate Visuals"
      ],
      "metadata": {
        "id": "gaYtvzCy0kZn"
      }
    },
    {
      "cell_type": "code",
      "source": [
        "# Checking how many categories in each column\n",
        "cat_cols = df.select_dtypes('object').columns\n",
        "df[cat_cols].nunique()"
      ],
      "metadata": {
        "colab": {
          "base_uri": "https://localhost:8080/"
        },
        "id": "HzHMEwFh0KxN",
        "outputId": "6619af5b-0ea7-4300-f852-0226ca0775a5"
      },
      "execution_count": 34,
      "outputs": [
        {
          "output_type": "execute_result",
          "data": {
            "text/plain": [
              "race             5\n",
              "gender           2\n",
              "nativecountry    5\n",
              "income           2\n",
              "dtype: int64"
            ]
          },
          "metadata": {},
          "execution_count": 34
        }
      ]
    },
    {
      "cell_type": "code",
      "source": [
        "sns.heatmap(df.corr());"
      ],
      "metadata": {
        "colab": {
          "base_uri": "https://localhost:8080/",
          "height": 435
        },
        "id": "jYF4cNHcrupI",
        "outputId": "10b6066d-67cc-41bd-a936-0ce9a44fa31d"
      },
      "execution_count": 37,
      "outputs": [
        {
          "output_type": "display_data",
          "data": {
            "text/plain": [
              "<Figure size 640x480 with 2 Axes>"
            ],
            "image/png": "[encoded data removed]"
          },
          "metadata": {}
        }
      ]
    },
    {
      "cell_type": "code",
      "source": [
        "ax = sns.countplot(data=df, x=\"workclass\").set(title=\"Work Classifications\")\n",
        "ax.set_xticklabels(ax.get_xticklabels(), rotation=45);"
      ],
      "metadata": {
        "colab": {
          "base_uri": "https://localhost:8080/",
          "height": 636
        },
        "id": "cYzxemzD1kg9",
        "outputId": "4f80ae21-5d4f-48f7-f1c5-6a96e1ac8408"
      },
      "execution_count": 35,
      "outputs": [
        {
          "output_type": "error",
          "ename": "AttributeError",
          "evalue": "ignored",
          "traceback": [
            "\u001b[0;31m---------------------------------------------------------------------------\u001b[0m",
            "\u001b[0;31mAttributeError\u001b[0m                            Traceback (most recent call last)",
            "\u001b[0;32m<ipython-input-35-2e26bf1c8cf4>\u001b[0m in \u001b[0;36m<cell line: 2>\u001b[0;34m()\u001b[0m\n\u001b[1;32m      1\u001b[0m \u001b[0max\u001b[0m \u001b[0;34m=\u001b[0m \u001b[0msns\u001b[0m\u001b[0;34m.\u001b[0m\u001b[0mcountplot\u001b[0m\u001b[0;34m(\u001b[0m\u001b[0mdata\u001b[0m\u001b[0;34m=\u001b[0m\u001b[0mdf\u001b[0m\u001b[0;34m,\u001b[0m \u001b[0mx\u001b[0m\u001b[0;34m=\u001b[0m\u001b[0;34m\"workclass\"\u001b[0m\u001b[0;34m)\u001b[0m\u001b[0;34m.\u001b[0m\u001b[0mset\u001b[0m\u001b[0;34m(\u001b[0m\u001b[0mtitle\u001b[0m\u001b[0;34m=\u001b[0m\u001b[0;34m\"Work Classifications\"\u001b[0m\u001b[0;34m)\u001b[0m\u001b[0;34m\u001b[0m\u001b[0;34m\u001b[0m\u001b[0m\n\u001b[0;32m----> 2\u001b[0;31m \u001b[0max\u001b[0m\u001b[0;34m.\u001b[0m\u001b[0mset_xticklabels\u001b[0m\u001b[0;34m(\u001b[0m\u001b[0max\u001b[0m\u001b[0;34m.\u001b[0m\u001b[0mget_xticklabels\u001b[0m\u001b[0;34m(\u001b[0m\u001b[0;34m)\u001b[0m\u001b[0;34m,\u001b[0m \u001b[0mrotation\u001b[0m\u001b[0;34m=\u001b[0m\u001b[0;36m45\u001b[0m\u001b[0;34m)\u001b[0m\u001b[0;34m;\u001b[0m\u001b[0;34m\u001b[0m\u001b[0;34m\u001b[0m\u001b[0m\n\u001b[0m",
            "\u001b[0;31mAttributeError\u001b[0m: 'list' object has no attribute 'set_xticklabels'"
          ]
        },
        {
          "output_type": "display_data",
          "data": {
            "text/plain": [
              "<Figure size 640x480 with 1 Axes>"
            ],
            "image/png": "[encoded data removed]"
          },
          "metadata": {}
        }
      ]
    },
    {
      "cell_type": "code",
      "source": [
        "ax = sns.countplot(data=df, x=\"education\").set(title=\"Education Levels\")\n",
        "ax.set_xticklabels(ax.get_xticklabels(), rotation=45, ha='right');"
      ],
      "metadata": {
        "id": "j8nVlRSV2GQR"
      },
      "execution_count": null,
      "outputs": []
    },
    {
      "cell_type": "code",
      "source": [
        "ax = sns.countplot(data=df, x=\"marital-status\").set(title=\"Marital Status\")\n",
        "ax.set_xticklabels(ax.get_xticklabels(), rotation=45, ha='right');"
      ],
      "metadata": {
        "id": "XCRn0KD02cT9"
      },
      "execution_count": null,
      "outputs": []
    },
    {
      "cell_type": "code",
      "source": [
        "ax = sns.countplot(data=df, x=\"occupation\").set(title=\"Occupation\")\n",
        "ax.set_xticklabels(ax.get_xticklabels(), rotation=45, ha='right');"
      ],
      "metadata": {
        "id": "e7Tr_WEY2iQX"
      },
      "execution_count": null,
      "outputs": []
    },
    {
      "cell_type": "code",
      "source": [
        "ax = sns.countplot(data=df, x=\"race\").set(title=\"Race\")\n",
        "ax.set_xticklabels(ax.get_xticklabels(), rotation=45, ha='right');"
      ],
      "metadata": {
        "id": "2MxOX3ED2yzY"
      },
      "execution_count": null,
      "outputs": []
    },
    {
      "cell_type": "code",
      "source": [
        "ax = sns.countplot(data=df, x=\"gender\").set(title=\"Genders\")\n",
        "ax.set_xticklabels(ax.get_xticklabels(), rotation=45, ha='right');"
      ],
      "metadata": {
        "id": "SQbB70oh3LvV"
      },
      "execution_count": null,
      "outputs": []
    },
    {
      "cell_type": "code",
      "source": [
        "ax = sns.countplot(data=df, x=\"income\").set(title=\"Income Levels\")\n",
        "ax.set_xticklabels(ax.get_xticklabels(), rotation=45, ha='right');"
      ],
      "metadata": {
        "id": "bIQFLbuQ3SWp"
      },
      "execution_count": null,
      "outputs": []
    },
    {
      "cell_type": "code",
      "source": [],
      "metadata": {
        "id": "4txb3lUY3gdd"
      },
      "execution_count": null,
      "outputs": []
    }
  ]
}