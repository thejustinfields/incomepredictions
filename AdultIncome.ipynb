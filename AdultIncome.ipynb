{
  "cells": [
    {
      "cell_type": "markdown",
      "metadata": {
        "id": "view-in-github",
        "colab_type": "text"
      },
      "source": [
        "<a href=\"https://colab.research.google.com/github/thejustinfields/incomepredictions/blob/main/AdultIncome.ipynb\" target=\"_parent\"><img src=\"https://colab.research.google.com/assets/colab-badge.svg\" alt=\"Open In Colab\"/></a>"
      ]
    },
    {
      "cell_type": "code",
      "execution_count": 350,
      "metadata": {
        "id": "DlESN0zLsBDN"
      },
      "outputs": [],
      "source": [
        "import pandas as pd\n",
        "import numpy as np\n",
        "import matplotlib.pyplot as plt\n",
        "import seaborn as sns\n",
        "\n",
        "import matplotlib.pyplot as plt\n",
        "from sklearn.model_selection import train_test_split\n",
        "from sklearn.preprocessing import StandardScaler, OneHotEncoder, LabelEncoder\n",
        "from sklearn.impute import SimpleImputer\n",
        "from sklearn.pipeline import make_pipeline\n",
        "from sklearn.linear_model import LinearRegression\n",
        "from sklearn.linear_model import LogisticRegression\n",
        "from sklearn.pipeline import make_pipeline\n",
        "from sklearn.compose import make_column_transformer, make_column_selector\n",
        "from sklearn.tree import DecisionTreeClassifier\n",
        "from sklearn.ensemble import RandomForestClassifier\n",
        "from sklearn.neighbors import KNeighborsClassifier\n",
        "from sklearn.preprocessing import StandardScaler\n",
        "from sklearn.model_selection import train_test_split, GridSearchCV\n",
        "from sklearn.metrics import accuracy_score, precision_score, recall_score, classification_report, ConfusionMatrixDisplay\n",
        "from sklearn.decomposition import PCA\n",
        "from imblearn.over_sampling import SMOTE\n",
        "from imblearn.over_sampling import RandomOverSampler\n",
        "from imblearn.under_sampling import RandomUnderSampler\n",
        "from imblearn.pipeline import make_pipeline as make_sampler_pipeline\n",
        "from xgboost import XGBClassifier\n",
        "\n",
        "## Filter ALL warnings\n",
        "import warnings\n",
        "warnings.filterwarnings('ignore')"
      ]
    },
    {
      "cell_type": "code",
      "execution_count": null,
      "metadata": {
        "id": "svz6aPI9sK7G"
      },
      "outputs": [],
      "source": [
        "filename=\"/content/drive/MyDrive/adult.csv\"\n",
        "df = pd.read_csv(filename)\n",
        "df"
      ]
    },
    {
      "cell_type": "code",
      "execution_count": null,
      "metadata": {
        "colab": {
          "background_save": true
        },
        "id": "PZOWma9mtzR7"
      },
      "outputs": [],
      "source": [
        "df.info()"
      ]
    },
    {
      "cell_type": "markdown",
      "metadata": {
        "id": "mu4ABLG3yp3q"
      },
      "source": [
        "- There are no missing values\n",
        "- There are 48842 rows and 15 columns"
      ]
    },
    {
      "cell_type": "code",
      "execution_count": null,
      "metadata": {
        "colab": {
          "background_save": true
        },
        "id": "H3_lYY7-Pg3M"
      },
      "outputs": [],
      "source": [
        "df['income'].value_counts(normalize=True)"
      ]
    },
    {
      "cell_type": "markdown",
      "metadata": {
        "id": "TMSjBe33ycEB"
      },
      "source": [
        "##Drop Irrelevant Columns"
      ]
    },
    {
      "cell_type": "code",
      "execution_count": null,
      "metadata": {
        "colab": {
          "background_save": true
        },
        "id": "wqiS0lM_w4By"
      },
      "outputs": [],
      "source": [
        "df = df.drop(columns=[\"fnlwgt\", \"educational-num\", \"relationship\"])\n",
        "df.head()"
      ]
    },
    {
      "cell_type": "markdown",
      "metadata": {
        "id": "GF1rqp22_YCU"
      },
      "source": [
        "- \"fnlwgt\" and \"educational-num\" are not relevant to outcomes\n",
        "- \"Relationship\" gives the same information as \"marital-status\""
      ]
    },
    {
      "cell_type": "code",
      "execution_count": null,
      "metadata": {
        "colab": {
          "background_save": true
        },
        "id": "yilrk1VLxYyw"
      },
      "outputs": [],
      "source": [
        "pd.set_option(\"display.max_columns\", None)\n",
        "df.describe()"
      ]
    },
    {
      "cell_type": "markdown",
      "metadata": {
        "id": "XnVQA7cpzILE"
      },
      "source": [
        "##Drop Duplicates"
      ]
    },
    {
      "cell_type": "code",
      "execution_count": null,
      "metadata": {
        "colab": {
          "background_save": true
        },
        "id": "HvroQHbqvDI1"
      },
      "outputs": [],
      "source": [
        "df.duplicated().sum()"
      ]
    },
    {
      "cell_type": "code",
      "execution_count": null,
      "metadata": {
        "colab": {
          "background_save": true
        },
        "id": "47MNQHpKvjLc"
      },
      "outputs": [],
      "source": [
        "df.drop_duplicates(inplace=True)"
      ]
    },
    {
      "cell_type": "code",
      "execution_count": null,
      "metadata": {
        "colab": {
          "background_save": true
        },
        "id": "CnRnvYdXvmen"
      },
      "outputs": [],
      "source": [
        "df.duplicated().sum()"
      ]
    },
    {
      "cell_type": "code",
      "execution_count": null,
      "metadata": {
        "colab": {
          "background_save": true
        },
        "id": "5A0cwcymvojJ"
      },
      "outputs": [],
      "source": [
        "df.isna().sum()"
      ]
    },
    {
      "cell_type": "markdown",
      "metadata": {
        "id": "JBtDAG5FzCvv"
      },
      "source": [
        "##Check Data Inconsitencies"
      ]
    },
    {
      "cell_type": "code",
      "execution_count": null,
      "metadata": {
        "colab": {
          "background_save": true
        },
        "id": "VBXT8YKtvssI"
      },
      "outputs": [],
      "source": [
        "dtypes=df.dtypes\n",
        "str_cols = dtypes[dtypes==\"object\"].index\n",
        "str_cols"
      ]
    },
    {
      "cell_type": "code",
      "execution_count": null,
      "metadata": {
        "colab": {
          "background_save": true
        },
        "id": "z_7wbnQiv0Xd"
      },
      "outputs": [],
      "source": [
        "#check column information for inconsistencies\n",
        "for col in str_cols:\n",
        "  print(f\"-Column= {col}\")\n",
        "  print(df[col].value_counts(dropna=False))\n",
        "  print(\"/n/n\")"
      ]
    },
    {
      "cell_type": "code",
      "execution_count": null,
      "metadata": {
        "colab": {
          "background_save": true
        },
        "id": "a6oiIJD9O02g"
      },
      "outputs": [],
      "source": [
        "#Drop rows with ? as an entry\n",
        "df.drop(df[df[\"workclass\"] == \"?\"].index, inplace=True)\n",
        "df.drop(df[df[\"occupation\"] == \"?\"].index, inplace=True)\n",
        "#Rename native-country to remove the \"-\"\n",
        "df = df.rename(columns = {\"native-country\": \"nativecountry\"})\n",
        "df.drop(df[df[\"nativecountry\"] == '?'].index, inplace=True)\n",
        "df.head()"
      ]
    },
    {
      "cell_type": "code",
      "execution_count": null,
      "metadata": {
        "colab": {
          "background_save": true
        },
        "id": "6f7HBbgLv3l2"
      },
      "outputs": [],
      "source": [
        "#Check value counts\n",
        "pd.set_option(\"display.max_rows\", None)\n",
        "df[\"capital-gain\"].value_counts()"
      ]
    },
    {
      "cell_type": "code",
      "execution_count": null,
      "metadata": {
        "colab": {
          "background_save": true
        },
        "id": "53V1G7C1ziBH"
      },
      "outputs": [],
      "source": [
        "df[\"capital-loss\"].value_counts()"
      ]
    },
    {
      "cell_type": "code",
      "execution_count": null,
      "metadata": {
        "colab": {
          "background_save": true
        },
        "id": "O8JHmrfzAuVU"
      },
      "outputs": [],
      "source": [
        "df[\"age\"].value_counts()"
      ]
    },
    {
      "cell_type": "code",
      "execution_count": null,
      "metadata": {
        "colab": {
          "background_save": true
        },
        "id": "DaZZeG_CDhnG"
      },
      "outputs": [],
      "source": [
        "df[\"workclass\"].value_counts()"
      ]
    },
    {
      "cell_type": "code",
      "execution_count": null,
      "metadata": {
        "colab": {
          "background_save": true
        },
        "id": "CzayXi_8Gq5Z"
      },
      "outputs": [],
      "source": [
        "#Delete without-pay because it is statistically insignificant\n",
        "df[\"workclass\"] = df[\"workclass\"].astype(\"category\")\n",
        "df[\"workclass\"] = df[\"workclass\"].cat.remove_categories(\"Without-pay\")\n",
        "df[\"workclass\"].value_counts()"
      ]
    },
    {
      "cell_type": "code",
      "execution_count": null,
      "metadata": {
        "colab": {
          "background_save": true
        },
        "id": "q_1pZyRzlAhv"
      },
      "outputs": [],
      "source": [
        "#Combine all government employees\n",
        "df['workclass'] = df['workclass'].replace({'Local-gov':'Government'})\n",
        "df['workclass'] = df['workclass'].replace({'State-gov':'Government'})\n",
        "df['workclass'] = df['workclass'].replace({'Federal-gov':'Government'})\n",
        "df['workclass'].value_counts()"
      ]
    },
    {
      "cell_type": "code",
      "execution_count": null,
      "metadata": {
        "colab": {
          "background_save": true
        },
        "id": "x9eAaJL2IiDo"
      },
      "outputs": [],
      "source": [
        "df[\"education\"].value_counts()"
      ]
    },
    {
      "cell_type": "code",
      "execution_count": null,
      "metadata": {
        "colab": {
          "background_save": true
        },
        "id": "Mwku1K0G9FcS"
      },
      "outputs": [],
      "source": [
        "#Remove Preschool because it is statistically insignificant\n",
        "df[\"education\"] = df[\"education\"].astype(\"category\")\n",
        "df[\"education\"] = df[\"education\"].cat.remove_categories(\"Preschool\")\n",
        "df[\"education\"].value_counts()"
      ]
    },
    {
      "cell_type": "code",
      "execution_count": null,
      "metadata": {
        "colab": {
          "background_save": true
        },
        "id": "1_fZUSUTg0VH"
      },
      "outputs": [],
      "source": [
        "#Combine categories to create less categories\n",
        "df['education'] = df['education'].replace({'1st-4th':'Gradeschool'})\n",
        "df['education'] = df['education'].replace({'5th-6th':'Gradeschool'})\n",
        "df['education'] = df['education'].replace({'7th-8th':'Gradeschool'})\n",
        "df['education'] = df['education'].replace({'9th':'Highschool'})\n",
        "df['education'] = df['education'].replace({'10th':'Highschool'})\n",
        "df['education'] = df['education'].replace({'11th':'Highschool'})\n",
        "df['education'] = df['education'].replace({'12th':'Highschool_Grad'})\n",
        "df['education'] = df['education'].replace({'HS-grad':'Highschool'})\n",
        "df['education'] = df['education'].replace({'Some-college':'Undergrad'})\n",
        "df['education'] = df['education'].replace({'Bachelors':'Undergrad'})\n",
        "df['education'] = df['education'].replace({'Assoc-voc':'Undergrad'})\n",
        "df['education'] = df['education'].replace({'Assoc-acdm':'Undergrad'})\n",
        "df['education'] = df['education'].replace({'Prof-school':'Graduate'})\n",
        "df['education'] = df['education'].replace({'Masters':'Graduate'})\n",
        "df['education'] = df['education'].replace({'Doctorate':'Graduate'})\n",
        "df['education'].value_counts()"
      ]
    },
    {
      "cell_type": "code",
      "execution_count": null,
      "metadata": {
        "colab": {
          "background_save": true
        },
        "id": "2UIG7YEI-QIJ"
      },
      "outputs": [],
      "source": [
        "df[\"marital-status\"].value_counts()"
      ]
    },
    {
      "cell_type": "code",
      "execution_count": null,
      "metadata": {
        "colab": {
          "background_save": true
        },
        "id": "iGlDavEg-hwj"
      },
      "outputs": [],
      "source": [
        "#Remove Married-AF-spouse because it is statistically insignificant\n",
        "df[\"marital-status\"] = df[\"marital-status\"].astype(\"category\")\n",
        "df[\"marital-status\"] = df[\"marital-status\"].cat.remove_categories(\"Married-AF-spouse\")\n",
        "df[\"marital-status\"].value_counts()"
      ]
    },
    {
      "cell_type": "code",
      "execution_count": null,
      "metadata": {
        "colab": {
          "background_save": true
        },
        "id": "unwt2Rg9-3W3"
      },
      "outputs": [],
      "source": [
        "df[\"occupation\"].value_counts()"
      ]
    },
    {
      "cell_type": "code",
      "execution_count": null,
      "metadata": {
        "colab": {
          "background_save": true
        },
        "id": "9DdyTCkt_E9e"
      },
      "outputs": [],
      "source": [
        "#Remove Armed Forces because it is statistically insignificant\n",
        "df[\"occupation\"] = df[\"occupation\"].astype(\"category\")\n",
        "df[\"occupation\"] = df[\"occupation\"].cat.remove_categories(\"Armed-Forces\")\n",
        "df[\"occupation\"].value_counts()"
      ]
    },
    {
      "cell_type": "code",
      "execution_count": null,
      "metadata": {
        "colab": {
          "background_save": true
        },
        "id": "tO8wRYbS_cfy"
      },
      "outputs": [],
      "source": [
        "df[\"race\"].value_counts()"
      ]
    },
    {
      "cell_type": "code",
      "execution_count": null,
      "metadata": {
        "colab": {
          "background_save": true
        },
        "id": "LlFLxMpb_fWb"
      },
      "outputs": [],
      "source": [
        "df[\"gender\"].value_counts()"
      ]
    },
    {
      "cell_type": "code",
      "execution_count": null,
      "metadata": {
        "colab": {
          "background_save": true
        },
        "id": "1onO6K0fmFKj"
      },
      "outputs": [],
      "source": [
        "df[\"nativecountry\"].value_counts()"
      ]
    },
    {
      "cell_type": "code",
      "execution_count": null,
      "metadata": {
        "colab": {
          "background_save": true
        },
        "id": "P_7DzTFemWzK"
      },
      "outputs": [],
      "source": [
        "#Combine nations into continents\n",
        "df['nativecountry'] = df['nativecountry'].replace({'Holand-Netherlands':'Europe'})\n",
        "df['nativecountry'] = df['nativecountry'].replace({'Hungary':'Europe'})\n",
        "df['nativecountry'] = df['nativecountry'].replace({'Scotland':'Europe'})\n",
        "df['nativecountry'] = df['nativecountry'].replace({'Yugoslavia':'Europe'})\n",
        "df['nativecountry'] = df['nativecountry'].replace({'Ireland':'Europe'})\n",
        "df['nativecountry'] = df['nativecountry'].replace({'France':'Europe'})\n",
        "df['nativecountry'] = df['nativecountry'].replace({'Greece':'Europe'})\n",
        "df['nativecountry'] = df['nativecountry'].replace({'Portugal':'Europe'})\n",
        "df['nativecountry'] = df['nativecountry'].replace({'Poland':'Europe'})\n",
        "df['nativecountry'] = df['nativecountry'].replace({'Italy':'Europe'})\n",
        "df['nativecountry'] = df['nativecountry'].replace({'England':'Europe'})\n",
        "df['nativecountry'] = df['nativecountry'].replace({'Germany':'Europe'})\n",
        "df['nativecountry'] = df['nativecountry'].replace({'Honduras':'CentralSouthAmerica'})\n",
        "df['nativecountry'] = df['nativecountry'].replace({'Ecuador':'CentralSouthAmerica'})\n",
        "df['nativecountry'] = df['nativecountry'].replace({'Peru':'CentralSouthAmerica'})\n",
        "df['nativecountry'] = df['nativecountry'].replace({'Nicaragua':'CentralSouthAmerica'})\n",
        "df['nativecountry'] = df['nativecountry'].replace({'Columbia':'CentralSouthAmerica'})\n",
        "df['nativecountry'] = df['nativecountry'].replace({'Guatemala':'CentralSouthAmerica'})\n",
        "df['nativecountry'] = df['nativecountry'].replace({'El-Salvador':'CentralSouthAmerica'})\n",
        "df['nativecountry'] = df['nativecountry'].replace({'Mexico':'CentralSouthAmerica'})\n",
        "df['nativecountry'] = df['nativecountry'].replace({'Philippines':'Asia'})\n",
        "df['nativecountry'] = df['nativecountry'].replace({'India':'Asia'})\n",
        "df['nativecountry'] = df['nativecountry'].replace({'China':'Asia'})\n",
        "df['nativecountry'] = df['nativecountry'].replace({'Japan':'Asia'})\n",
        "df['nativecountry'] = df['nativecountry'].replace({'Vietnam':'Asia'})\n",
        "df['nativecountry'] = df['nativecountry'].replace({'Iran':'Asia'})\n",
        "df['nativecountry'] = df['nativecountry'].replace({'Taiwan':'Asia'})\n",
        "df['nativecountry'] = df['nativecountry'].replace({'Thailand':'Asia'})\n",
        "df['nativecountry'] = df['nativecountry'].replace({'Hong':'Asia'})\n",
        "df['nativecountry'] = df['nativecountry'].replace({'Cambodia':'Asia'})\n",
        "df['nativecountry'] = df['nativecountry'].replace({'Laos':'Asia'})\n",
        "df['nativecountry'] = df['nativecountry'].replace({'South':'Asia'})\n",
        "df['nativecountry'] = df['nativecountry'].replace({'United-States':'NorthAmerica'})\n",
        "df['nativecountry'] = df['nativecountry'].replace({'Canada':'NorthAmerica'})\n",
        "df['nativecountry'] = df['nativecountry'].replace({'Outlying-US(Guam-USVI-etc)':'NorthAmerica'})\n",
        "df['nativecountry'] = df['nativecountry'].replace({'Puerto-Rico':'NorthAmerica'})\n",
        "df['nativecountry'] = df['nativecountry'].replace({'Cuba':'NorthAmerica'})\n",
        "df['nativecountry'] = df['nativecountry'].replace({'Jamaica':'NorthAmerica'})\n",
        "df['nativecountry'] = df['nativecountry'].replace({'Dominican-Republic':'NorthAmerica'})\n",
        "df['nativecountry'] = df['nativecountry'].replace({'Haiti':'NorthAmerica'})\n",
        "df['nativecountry'] = df['nativecountry'].replace({'Trinadad&Tobago':'NorthAmerica'})\n",
        "df['nativecountry'].value_counts()"
      ]
    },
    {
      "cell_type": "markdown",
      "metadata": {
        "id": "8Ea13_87Dq6R"
      },
      "source": [
        "##Check for Outliers"
      ]
    },
    {
      "cell_type": "code",
      "execution_count": null,
      "metadata": {
        "colab": {
          "background_save": true
        },
        "id": "02_bb_FfDqVw"
      },
      "outputs": [],
      "source": [
        "data = df[\"age\"]\n",
        "fig, ax = plt.subplots()\n",
        "ax.boxplot([data]);"
      ]
    },
    {
      "cell_type": "code",
      "execution_count": null,
      "metadata": {
        "colab": {
          "background_save": true
        },
        "id": "uhkplppcEzH6"
      },
      "outputs": [],
      "source": [
        "df[\"age\"].describe().round(0)"
      ]
    },
    {
      "cell_type": "code",
      "execution_count": null,
      "metadata": {
        "colab": {
          "background_save": true
        },
        "id": "c9FXev4bE5zc"
      },
      "outputs": [],
      "source": [
        "data = df[\"capital-gain\"]\n",
        "fig, ax = plt.subplots()\n",
        "ax.boxplot([data]);"
      ]
    },
    {
      "cell_type": "code",
      "execution_count": null,
      "metadata": {
        "colab": {
          "background_save": true
        },
        "id": "IESdCVhLFDtI"
      },
      "outputs": [],
      "source": [
        "df[\"capital-gain\"].describe().round(0)"
      ]
    },
    {
      "cell_type": "markdown",
      "metadata": {
        "id": "gaYtvzCy0kZn"
      },
      "source": [
        "##Univariate Visuals"
      ]
    },
    {
      "cell_type": "code",
      "execution_count": null,
      "metadata": {
        "colab": {
          "background_save": true
        },
        "id": "HzHMEwFh0KxN"
      },
      "outputs": [],
      "source": [
        "# Checking how many categories in each column\n",
        "cat_cols = df.select_dtypes('object').columns\n",
        "df[cat_cols].nunique()"
      ]
    },
    {
      "cell_type": "code",
      "execution_count": null,
      "metadata": {
        "colab": {
          "background_save": true
        },
        "id": "jYF4cNHcrupI"
      },
      "outputs": [],
      "source": [
        "sns.heatmap(df.corr(), cmap=\"RdBu\", annot=True);"
      ]
    },
    {
      "cell_type": "code",
      "execution_count": null,
      "metadata": {
        "colab": {
          "background_save": true
        },
        "id": "cYzxemzD1kg9"
      },
      "outputs": [],
      "source": [
        "ax = sns.countplot(data=df, x=\"workclass\")\n",
        "ax.set_title('Work Class')\n",
        "ax.set_xticklabels(ax.get_xticklabels(), rotation=45);"
      ]
    },
    {
      "cell_type": "code",
      "execution_count": null,
      "metadata": {
        "colab": {
          "background_save": true
        },
        "id": "j8nVlRSV2GQR"
      },
      "outputs": [],
      "source": [
        "ax = sns.countplot(data=df, x=\"education\")\n",
        "ax.set_title('Education Level')\n",
        "ax.set_xticklabels(ax.get_xticklabels(), rotation=45, ha='right');"
      ]
    },
    {
      "cell_type": "code",
      "execution_count": null,
      "metadata": {
        "colab": {
          "background_save": true
        },
        "id": "XCRn0KD02cT9"
      },
      "outputs": [],
      "source": [
        "ax = sns.countplot(data=df, x=\"marital-status\")\n",
        "ax.set_title('Marital Status')\n",
        "ax.set_xticklabels(ax.get_xticklabels(), rotation=45, ha='right');"
      ]
    },
    {
      "cell_type": "code",
      "execution_count": null,
      "metadata": {
        "colab": {
          "background_save": true
        },
        "id": "e7Tr_WEY2iQX"
      },
      "outputs": [],
      "source": [
        "ax = sns.countplot(data=df, x=\"occupation\")\n",
        "ax.set_title('Occupation')\n",
        "ax.set_xticklabels(ax.get_xticklabels(), rotation=45, ha='right');"
      ]
    },
    {
      "cell_type": "code",
      "execution_count": null,
      "metadata": {
        "colab": {
          "background_save": true
        },
        "id": "2MxOX3ED2yzY"
      },
      "outputs": [],
      "source": [
        "ax = sns.countplot(data=df, x=\"race\")\n",
        "ax.set_title('Race')\n",
        "ax.set_xticklabels(ax.get_xticklabels(), rotation=45, ha='right');"
      ]
    },
    {
      "cell_type": "code",
      "execution_count": null,
      "metadata": {
        "colab": {
          "background_save": true
        },
        "id": "SQbB70oh3LvV"
      },
      "outputs": [],
      "source": [
        "ax = sns.countplot(data=df, x=\"gender\")\n",
        "ax.set_title('Gender')\n",
        "ax.set_xticklabels(ax.get_xticklabels(), rotation=45, ha='right');"
      ]
    },
    {
      "cell_type": "code",
      "execution_count": null,
      "metadata": {
        "colab": {
          "background_save": true
        },
        "id": "bIQFLbuQ3SWp"
      },
      "outputs": [],
      "source": [
        "ax = sns.countplot(data=df, x=\"income\")\n",
        "ax.set_title('Income Levels')\n",
        "ax.set_xticklabels(ax.get_xticklabels(), rotation=45, ha='right');"
      ]
    },
    {
      "cell_type": "markdown",
      "metadata": {
        "id": "khLsTlWPGzcz"
      },
      "source": [
        "- More people make less than 50k than those who earn over 50k"
      ]
    },
    {
      "cell_type": "markdown",
      "metadata": {
        "id": "MZv41omiwDGD"
      },
      "source": [
        "##Explanatory Visualizations"
      ]
    },
    {
      "cell_type": "code",
      "execution_count": null,
      "metadata": {
        "colab": {
          "background_save": true
        },
        "id": "JlItEIu8wHlf"
      },
      "outputs": [],
      "source": [
        "fig=plt.subplots(figsize=(12,7))\n",
        "ax = sns.barplot(data=df, x=\"age\", y=\"income\", hue='nativecountry')"
      ]
    },
    {
      "cell_type": "markdown",
      "metadata": {
        "id": "tkIlsmIB5VlW"
      },
      "source": [
        "- The highest earners globally are over 40.\n",
        "- The highest earners live in North America and Europe"
      ]
    },
    {
      "cell_type": "code",
      "execution_count": null,
      "metadata": {
        "colab": {
          "background_save": true
        },
        "id": "zSt2s1LzXiOp"
      },
      "outputs": [],
      "source": [
        "ax = sns.countplot(data=df, x='income', hue='marital-status')"
      ]
    },
    {
      "cell_type": "markdown",
      "metadata": {
        "id": "7SuHq57FhNVN"
      },
      "source": [
        "- Those who have never been married seem to make less than those who are married.\n",
        "- Those who have been divorced seem to make less."
      ]
    },
    {
      "cell_type": "code",
      "execution_count": null,
      "metadata": {
        "id": "B8mkjnE8XutE"
      },
      "outputs": [],
      "source": [
        "ax = sns.countplot(data=df, x='income', hue='workclass')"
      ]
    },
    {
      "cell_type": "markdown",
      "metadata": {
        "id": "1D0BV4T9jU9j"
      },
      "source": [
        "- The private sector seems to be the place to work to make the most amount of money."
      ]
    },
    {
      "cell_type": "code",
      "execution_count": null,
      "metadata": {
        "id": "ldTC_aoZhvDu"
      },
      "outputs": [],
      "source": [
        "ax = sns.countplot(data=df, x='income', hue='education')"
      ]
    },
    {
      "cell_type": "markdown",
      "metadata": {
        "id": "a3HD4BgyiBbt"
      },
      "source": [
        "- Undergraduates seem to make the most money."
      ]
    },
    {
      "cell_type": "markdown",
      "metadata": {
        "id": "JXiGBNoatwM9"
      },
      "source": [
        "##Modeling"
      ]
    },
    {
      "cell_type": "code",
      "execution_count": null,
      "metadata": {
        "id": "s7zCgMeqz0VQ"
      },
      "outputs": [],
      "source": [
        "#Convert target to numeric values\n",
        "df['income'] = df['income'].replace({'<=50':0, '>50k':1})\n",
        "# Save X data\n",
        "X = df.drop(columns = 'income')\n",
        "# Encode our target\n",
        "y = df['income']"
      ]
    },
    {
      "cell_type": "code",
      "execution_count": null,
      "metadata": {
        "id": "n-giZGo42ZpY"
      },
      "outputs": [],
      "source": [
        "# Train test split\n",
        "X_train, X_test, y_train, y_test = train_test_split(X, y, random_state=3)"
      ]
    },
    {
      "cell_type": "code",
      "execution_count": null,
      "metadata": {
        "id": "7CGxkLgi2iVi"
      },
      "outputs": [],
      "source": [
        "#Imputers\n",
        "freq_imputer = SimpleImputer(strategy=\"most_frequent\")\n",
        "mean_imputer = SimpleImputer(strategy=\"mean\")\n",
        "#Scaler\n",
        "scaler = StandardScaler()\n",
        "#OneHotEndoder\n",
        "ohe = OneHotEncoder(handle_unknown=\"ignore\", sparse = False)"
      ]
    },
    {
      "cell_type": "code",
      "execution_count": null,
      "metadata": {
        "id": "egxNQ1Ca3WSb"
      },
      "outputs": [],
      "source": [
        "cat_selector = make_column_selector(dtype_include=\"object\")\n",
        "num_selector = make_column_selector(dtype_include=\"number\")"
      ]
    },
    {
      "cell_type": "code",
      "execution_count": null,
      "metadata": {
        "id": "bzy1bM_B3WvT"
      },
      "outputs": [],
      "source": [
        "#Numeric Pipeline\n",
        "numeric_pipe = make_pipeline(mean_imputer, scaler)\n",
        "numeric_pipe"
      ]
    },
    {
      "cell_type": "code",
      "execution_count": null,
      "metadata": {
        "id": "AZKqy92P3Zut"
      },
      "outputs": [],
      "source": [
        "#Categorical Pipeline\n",
        "categorical_pipe = make_pipeline(freq_imputer, ohe)\n",
        "categorical_pipe"
      ]
    },
    {
      "cell_type": "code",
      "execution_count": null,
      "metadata": {
        "id": "ckl3SRWJ3cJ4"
      },
      "outputs": [],
      "source": [
        "#Tuples for ColumnTransformer\n",
        "number_tuple = (numeric_pipe, num_selector)\n",
        "category_tuple = (categorical_pipe, cat_selector)\n",
        "#ColumnTransformer\n",
        "preprocessor = make_column_transformer(number_tuple, category_tuple)\n",
        "preprocessor"
      ]
    },
    {
      "cell_type": "code",
      "execution_count": null,
      "metadata": {
        "id": "CrqFjcno4jlc"
      },
      "outputs": [],
      "source": [
        "preprocessor.fit(X_train)"
      ]
    },
    {
      "cell_type": "code",
      "execution_count": null,
      "metadata": {
        "id": "oAOGBpCH4kQu"
      },
      "outputs": [],
      "source": [
        "#transform train and test\n",
        "X_train_processed = preprocessor.transform(X_train)\n",
        "X_test_processed = preprocessor.transform(X_test)"
      ]
    },
    {
      "cell_type": "code",
      "execution_count": null,
      "metadata": {
        "id": "ZsKeBI76VQdW"
      },
      "outputs": [],
      "source": [
        "# fit PCA\n",
        "pca = PCA(n_components=.95)\n",
        "X_train_pca = pca.fit_transform(X_train_processed)\n",
        "X_test_pca = pca.transform(X_test_processed)"
      ]
    },
    {
      "cell_type": "code",
      "execution_count": 380,
      "metadata": {
        "id": "dy8v-cgLuBUS",
        "colab": {
          "base_uri": "https://localhost:8080/"
        },
        "outputId": "dde96738-47db-458d-ec02-99bae94d0e0d"
      },
      "outputs": [
        {
          "output_type": "stream",
          "name": "stdout",
          "text": [
            "Original X_train class balance\n",
            "<=50K    20843\n",
            ">50K      7498\n",
            "Name: income, dtype: int64\n",
            "\n",
            "Oversampled X_train_over class balance\n",
            "<=50K    20843\n",
            ">50K     20843\n",
            "Name: income, dtype: int64\n"
          ]
        }
      ],
      "source": [
        "#Handle Class Imbalance\n",
        "over_sampler = RandomOverSampler()\n",
        "#Scale and oversample the data.\n",
        "X_train_over, y_train_over = over_sampler.fit_resample(X_train_pca, y_train)\n",
        "#Explore the sresampled data\n",
        "print('Original X_train class balance')\n",
        "print(y_train.value_counts())\n",
        "print('\\nOversampled X_train_over class balance')\n",
        "y_train_over = pd.Series(y_train_over)\n",
        "print(y_train_over.value_counts())"
      ]
    },
    {
      "cell_type": "code",
      "source": [
        "#Create the oversampling modeling pipeline\n",
        "knn = KNeighborsClassifier()\n",
        "over_sample_knn_pipe = make_sampler_pipeline(over_sampler, knn)\n",
        "#Fit and evaluate the model\n",
        "over_sample_knn_pipe.fit(X_train_over, y_train_over)\n",
        "knn_over_test_preds = over_sample_knn_pipe.predict(X_test_pca)\n",
        "print(classification_report(y_test, knn_over_test_preds))\n",
        "ConfusionMatrixDisplay.from_predictions(y_test, knn_over_test_preds, normalize='true', cmap='Greens');"
      ],
      "metadata": {
        "colab": {
          "base_uri": "https://localhost:8080/",
          "height": 602
        },
        "id": "T09dio1Z7lHm",
        "outputId": "c66b62b4-5f08-4bd3-b115-4ce29d98c911"
      },
      "execution_count": 375,
      "outputs": [
        {
          "output_type": "stream",
          "name": "stdout",
          "text": [
            "              precision    recall  f1-score   support\n",
            "\n",
            "       <=50K       0.86      0.70      0.77      6980\n",
            "        >50K       0.44      0.68      0.53      2467\n",
            "\n",
            "    accuracy                           0.69      9447\n",
            "   macro avg       0.65      0.69      0.65      9447\n",
            "weighted avg       0.75      0.69      0.71      9447\n",
            "\n"
          ]
        },
        {
          "output_type": "display_data",
          "data": {
            "text/plain": [
              "<Figure size 640x480 with 2 Axes>"
            ],
            "image/png": "[encoded data removed]"
          },
          "metadata": {}
        }
      ]
    },
    {
      "cell_type": "code",
      "execution_count": 246,
      "metadata": {
        "id": "6imG_8qg5HjM",
        "colab": {
          "base_uri": "https://localhost:8080/"
        },
        "outputId": "e87bc694-7b6e-4ed2-ff98-25f408820ff7"
      },
      "outputs": [
        {
          "output_type": "execute_result",
          "data": {
            "text/plain": [
              "array(['<=50K', '>50K', '<=50K', ..., '<=50K', '<=50K', '>50K'],\n",
              "      dtype=object)"
            ]
          },
          "metadata": {},
          "execution_count": 246
        }
      ],
      "source": [
        "knn_predictions = over_sample_knn_pipe.predict(X_test_pca)\n",
        "knn_predictions"
      ]
    },
    {
      "cell_type": "code",
      "execution_count": 247,
      "metadata": {
        "colab": {
          "base_uri": "https://localhost:8080/"
        },
        "id": "rh1aCfGX6o2I",
        "outputId": "c0152dc0-8fb1-4ba9-8e84-c24df4defcb0"
      },
      "outputs": [
        {
          "output_type": "execute_result",
          "data": {
            "text/plain": [
              "0.6916481422673865"
            ]
          },
          "metadata": {},
          "execution_count": 247
        }
      ],
      "source": [
        "knn_acc_score = over_sample_knn_pipe.score(X_test_pca, y_test)\n",
        "knn_acc_score"
      ]
    },
    {
      "cell_type": "code",
      "execution_count": 248,
      "metadata": {
        "colab": {
          "base_uri": "https://localhost:8080/",
          "height": 449
        },
        "id": "08tcuUHi6w0_",
        "outputId": "bb895787-8771-4a97-b0d4-941448797ad2"
      },
      "outputs": [
        {
          "output_type": "display_data",
          "data": {
            "text/plain": [
              "<Figure size 640x480 with 2 Axes>"
            ],
            "image/png": "[encoded data removed]"
          },
          "metadata": {}
        }
      ],
      "source": [
        "ConfusionMatrixDisplay.from_predictions(y_test, knn_predictions, normalize='true');"
      ]
    },
    {
      "cell_type": "code",
      "source": [
        "print(classification_report(y_test, knn_predictions))"
      ],
      "metadata": {
        "colab": {
          "base_uri": "https://localhost:8080/"
        },
        "id": "hjli8YywzMen",
        "outputId": "824a84e8-7174-46b9-f27a-6d3e7f087fbd"
      },
      "execution_count": 249,
      "outputs": [
        {
          "output_type": "stream",
          "name": "stdout",
          "text": [
            "              precision    recall  f1-score   support\n",
            "\n",
            "       <=50K       0.86      0.70      0.77      6980\n",
            "        >50K       0.44      0.68      0.53      2467\n",
            "\n",
            "    accuracy                           0.69      9447\n",
            "   macro avg       0.65      0.69      0.65      9447\n",
            "weighted avg       0.75      0.69      0.71      9447\n",
            "\n"
          ]
        }
      ]
    },
    {
      "cell_type": "code",
      "execution_count": 250,
      "metadata": {
        "colab": {
          "base_uri": "https://localhost:8080/"
        },
        "id": "DV4jkUOy63Kk",
        "outputId": "8905543e-7095-4f1f-acbd-bbc2d835ae9f"
      },
      "outputs": [
        {
          "output_type": "execute_result",
          "data": {
            "text/plain": [
              "{'memory': None,\n",
              " 'steps': [('randomoversampler', RandomOverSampler()),\n",
              "  ('kneighborsclassifier', KNeighborsClassifier())],\n",
              " 'verbose': False,\n",
              " 'randomoversampler': RandomOverSampler(),\n",
              " 'kneighborsclassifier': KNeighborsClassifier(),\n",
              " 'randomoversampler__random_state': None,\n",
              " 'randomoversampler__sampling_strategy': 'auto',\n",
              " 'randomoversampler__shrinkage': None,\n",
              " 'kneighborsclassifier__algorithm': 'auto',\n",
              " 'kneighborsclassifier__leaf_size': 30,\n",
              " 'kneighborsclassifier__metric': 'minkowski',\n",
              " 'kneighborsclassifier__metric_params': None,\n",
              " 'kneighborsclassifier__n_jobs': None,\n",
              " 'kneighborsclassifier__n_neighbors': 5,\n",
              " 'kneighborsclassifier__p': 2,\n",
              " 'kneighborsclassifier__weights': 'uniform'}"
            ]
          },
          "metadata": {},
          "execution_count": 250
        }
      ],
      "source": [
        "over_sample_knn_pipe.get_params()"
      ]
    },
    {
      "cell_type": "code",
      "execution_count": 251,
      "metadata": {
        "id": "nrehOFqK67Uc"
      },
      "outputs": [],
      "source": [
        "knn_param_grid = {'kneighborsclassifier__n_neighbors': range(1,10),\n",
        "              'kneighborsclassifier__p': range(1,5),\n",
        "              'kneighborsclassifier__weights': ['distance','uniform']}"
      ]
    },
    {
      "cell_type": "code",
      "execution_count": 252,
      "metadata": {
        "colab": {
          "base_uri": "https://localhost:8080/"
        },
        "id": "ECjNoBNs6-Du",
        "outputId": "601cd2ce-2d63-4539-fec1-44f55dde7082"
      },
      "outputs": [
        {
          "output_type": "stream",
          "name": "stdout",
          "text": [
            "Best KNN Parameters:\n",
            "{'kneighborsclassifier__n_neighbors': 2, 'kneighborsclassifier__p': 4, 'kneighborsclassifier__weights': 'uniform'}\n",
            "Accuracy of best KNN model is: 0.7293320630888113\n"
          ]
        }
      ],
      "source": [
        "knn_pipe_gs = GridSearchCV(over_sample_knn_pipe, knn_param_grid)\n",
        "\n",
        "knn_pipe_gs.fit(X_train_pca, y_train)\n",
        "print('Best KNN Parameters:')\n",
        "print(knn_pipe_gs.best_params_)\n",
        "best_pipe = knn_pipe_gs.best_estimator_\n",
        "print(f'Accuracy of best KNN model is: {best_pipe.score(X_test_pca, y_test)}')"
      ]
    },
    {
      "cell_type": "code",
      "execution_count": 253,
      "metadata": {
        "colab": {
          "base_uri": "https://localhost:8080/"
        },
        "id": "w8pScN5h7B3B",
        "outputId": "4cb29ec5-e119-49dd-9a0c-c89c879edf81"
      },
      "outputs": [
        {
          "output_type": "execute_result",
          "data": {
            "text/plain": [
              "array(['<=50K', '<=50K', '<=50K', ..., '<=50K', '<=50K', '>50K'],\n",
              "      dtype=object)"
            ]
          },
          "metadata": {},
          "execution_count": 253
        }
      ],
      "source": [
        "knn_gs_predictions = knn_pipe_gs.predict(X_test_pca)\n",
        "knn_gs_predictions"
      ]
    },
    {
      "cell_type": "code",
      "execution_count": 254,
      "metadata": {
        "colab": {
          "base_uri": "https://localhost:8080/"
        },
        "id": "P8xr-c_nQlgI",
        "outputId": "cc6c3d7d-2525-4a48-b942-ed5aaaf55662"
      },
      "outputs": [
        {
          "output_type": "execute_result",
          "data": {
            "text/plain": [
              "0.7293320630888113"
            ]
          },
          "metadata": {},
          "execution_count": 254
        }
      ],
      "source": [
        "knngs_acc_score = knn_pipe_gs.score(X_test_pca, y_test)\n",
        "knngs_acc_score"
      ]
    },
    {
      "cell_type": "code",
      "execution_count": 255,
      "metadata": {
        "colab": {
          "base_uri": "https://localhost:8080/",
          "height": 449
        },
        "id": "8ulOBbR9QmS_",
        "outputId": "308d70a2-e267-4506-dbce-d25326fb433c"
      },
      "outputs": [
        {
          "output_type": "display_data",
          "data": {
            "text/plain": [
              "<Figure size 640x480 with 2 Axes>"
            ],
            "image/png": "[encoded data removed]"
          },
          "metadata": {}
        }
      ],
      "source": [
        "ConfusionMatrixDisplay.from_predictions(y_test, knn_gs_predictions, normalize='true');"
      ]
    },
    {
      "cell_type": "code",
      "execution_count": null,
      "metadata": {
        "colab": {
          "base_uri": "https://localhost:8080/"
        },
        "id": "hbNhv_BIfn6e",
        "outputId": "51d0efb1-52a2-45e6-e138-482285b531c7"
      },
      "outputs": [
        {
          "name": "stdout",
          "output_type": "stream",
          "text": [
            "              precision    recall  f1-score   support\n",
            "\n",
            "       <=50K       0.81      0.95      0.87      6980\n",
            "        >50K       0.73      0.36      0.48      2467\n",
            "\n",
            "    accuracy                           0.80      9447\n",
            "   macro avg       0.77      0.65      0.68      9447\n",
            "weighted avg       0.79      0.80      0.77      9447\n",
            "\n"
          ]
        }
      ],
      "source": [
        "print(classification_report(y_test, knn_gs_predictions))"
      ]
    },
    {
      "cell_type": "markdown",
      "source": [
        "###KNN Observations\n",
        "- Predicts <=50 81% precision\n",
        "- Predicts >50k 73% precision\n",
        "- Overall .72 accuracy score\n",
        "- Potentially a good model to use"
      ],
      "metadata": {
        "id": "LdPXFfEYXuXJ"
      }
    },
    {
      "cell_type": "markdown",
      "metadata": {
        "id": "B0OWHBHrQ7DY"
      },
      "source": [
        "###Random Forest"
      ]
    },
    {
      "cell_type": "code",
      "source": [
        "rf = RandomForestClassifier()"
      ],
      "metadata": {
        "id": "gVZsoQnX9vo1"
      },
      "execution_count": 287,
      "outputs": []
    },
    {
      "cell_type": "code",
      "source": [
        "#Create the oversampling modeling pipeline\n",
        "over_sample_rf_pipe = make_sampler_pipeline(scaler, over_sampler, rf)\n",
        "#Fit and evaluate the model\n",
        "over_sample_rf_pipe.fit(X_train_over, y_train_over)\n",
        "rf_over_test_preds = over_sample_rf_pipe.predict(X_test_pca)\n",
        "print(classification_report(y_test, rf_over_test_preds))\n",
        "ConfusionMatrixDisplay.from_predictions(y_test, rf_over_test_preds, normalize='true', cmap='Greens');"
      ],
      "metadata": {
        "colab": {
          "base_uri": "https://localhost:8080/",
          "height": 602
        },
        "id": "vqELvIF0DZx1",
        "outputId": "579f0492-3813-4829-8b83-eb3c3372ae88"
      },
      "execution_count": 323,
      "outputs": [
        {
          "output_type": "stream",
          "name": "stdout",
          "text": [
            "              precision    recall  f1-score   support\n",
            "\n",
            "       <=50K       0.88      0.74      0.80      6980\n",
            "        >50K       0.49      0.71      0.58      2467\n",
            "\n",
            "    accuracy                           0.73      9447\n",
            "   macro avg       0.68      0.73      0.69      9447\n",
            "weighted avg       0.78      0.73      0.74      9447\n",
            "\n"
          ]
        },
        {
          "output_type": "display_data",
          "data": {
            "text/plain": [
              "<Figure size 640x480 with 2 Axes>"
            ],
            "image/png": "[encoded data removed]"
          },
          "metadata": {}
        }
      ]
    },
    {
      "cell_type": "code",
      "execution_count": 324,
      "metadata": {
        "colab": {
          "base_uri": "https://localhost:8080/",
          "height": 159
        },
        "id": "FnYXcwRqQ9pj",
        "outputId": "65a0e4d1-7b5c-4c9e-8c8b-8be43d3ccafd"
      },
      "outputs": [
        {
          "output_type": "execute_result",
          "data": {
            "text/plain": [
              "Pipeline(steps=[('standardscaler', StandardScaler()),\n",
              "                ('randomoversampler', RandomOverSampler()),\n",
              "                ('randomforestclassifier', RandomForestClassifier())])"
            ],
            "text/html": [
              "<style>#sk-container-id-26 {color: black;background-color: white;}#sk-container-id-26 pre{padding: 0;}#sk-container-id-26 div.sk-toggleable {background-color: white;}#sk-container-id-26 label.sk-toggleable__label {cursor: pointer;display: block;width: 100%;margin-bottom: 0;padding: 0.3em;box-sizing: border-box;text-align: center;}#sk-container-id-26 label.sk-toggleable__label-arrow:before {content: \"▸\";float: left;margin-right: 0.25em;color: #696969;}#sk-container-id-26 label.sk-toggleable__label-arrow:hover:before {color: black;}#sk-container-id-26 div.sk-estimator:hover label.sk-toggleable__label-arrow:before {color: black;}#sk-container-id-26 div.sk-toggleable__content {max-height: 0;max-width: 0;overflow: hidden;text-align: left;background-color: #f0f8ff;}#sk-container-id-26 div.sk-toggleable__content pre {margin: 0.2em;color: black;border-radius: 0.25em;background-color: #f0f8ff;}#sk-container-id-26 input.sk-toggleable__control:checked~div.sk-toggleable__content {max-height: 200px;max-width: 100%;overflow: auto;}#sk-container-id-26 input.sk-toggleable__control:checked~label.sk-toggleable__label-arrow:before {content: \"▾\";}#sk-container-id-26 div.sk-estimator input.sk-toggleable__control:checked~label.sk-toggleable__label {background-color: #d4ebff;}#sk-container-id-26 div.sk-label input.sk-toggleable__control:checked~label.sk-toggleable__label {background-color: #d4ebff;}#sk-container-id-26 input.sk-hidden--visually {border: 0;clip: rect(1px 1px 1px 1px);clip: rect(1px, 1px, 1px, 1px);height: 1px;margin: -1px;overflow: hidden;padding: 0;position: absolute;width: 1px;}#sk-container-id-26 div.sk-estimator {font-family: monospace;background-color: #f0f8ff;border: 1px dotted black;border-radius: 0.25em;box-sizing: border-box;margin-bottom: 0.5em;}#sk-container-id-26 div.sk-estimator:hover {background-color: #d4ebff;}#sk-container-id-26 div.sk-parallel-item::after {content: \"\";width: 100%;border-bottom: 1px solid gray;flex-grow: 1;}#sk-container-id-26 div.sk-label:hover label.sk-toggleable__label {background-color: #d4ebff;}#sk-container-id-26 div.sk-serial::before {content: \"\";position: absolute;border-left: 1px solid gray;box-sizing: border-box;top: 0;bottom: 0;left: 50%;z-index: 0;}#sk-container-id-26 div.sk-serial {display: flex;flex-direction: column;align-items: center;background-color: white;padding-right: 0.2em;padding-left: 0.2em;position: relative;}#sk-container-id-26 div.sk-item {position: relative;z-index: 1;}#sk-container-id-26 div.sk-parallel {display: flex;align-items: stretch;justify-content: center;background-color: white;position: relative;}#sk-container-id-26 div.sk-item::before, #sk-container-id-26 div.sk-parallel-item::before {content: \"\";position: absolute;border-left: 1px solid gray;box-sizing: border-box;top: 0;bottom: 0;left: 50%;z-index: -1;}#sk-container-id-26 div.sk-parallel-item {display: flex;flex-direction: column;z-index: 1;position: relative;background-color: white;}#sk-container-id-26 div.sk-parallel-item:first-child::after {align-self: flex-end;width: 50%;}#sk-container-id-26 div.sk-parallel-item:last-child::after {align-self: flex-start;width: 50%;}#sk-container-id-26 div.sk-parallel-item:only-child::after {width: 0;}#sk-container-id-26 div.sk-dashed-wrapped {border: 1px dashed gray;margin: 0 0.4em 0.5em 0.4em;box-sizing: border-box;padding-bottom: 0.4em;background-color: white;}#sk-container-id-26 div.sk-label label {font-family: monospace;font-weight: bold;display: inline-block;line-height: 1.2em;}#sk-container-id-26 div.sk-label-container {text-align: center;}#sk-container-id-26 div.sk-container {/* jupyter's `normalize.less` sets `[hidden] { display: none; }` but bootstrap.min.css set `[hidden] { display: none !important; }` so we also need the `!important` here to be able to override the default hidden behavior on the sphinx rendered scikit-learn.org. See: https://github.com/scikit-learn/scikit-learn/issues/21755 */display: inline-block !important;position: relative;}#sk-container-id-26 div.sk-text-repr-fallback {display: none;}</style><div id=\"sk-container-id-26\" class=\"sk-top-container\"><div class=\"sk-text-repr-fallback\"><pre>Pipeline(steps=[(&#x27;standardscaler&#x27;, StandardScaler()),\n",
              "                (&#x27;randomoversampler&#x27;, RandomOverSampler()),\n",
              "                (&#x27;randomforestclassifier&#x27;, RandomForestClassifier())])</pre><b>In a Jupyter environment, please rerun this cell to show the HTML representation or trust the notebook. <br />On GitHub, the HTML representation is unable to render, please try loading this page with nbviewer.org.</b></div><div class=\"sk-container\" hidden><div class=\"sk-item sk-dashed-wrapped\"><div class=\"sk-label-container\"><div class=\"sk-label sk-toggleable\"><input class=\"sk-toggleable__control sk-hidden--visually\" id=\"sk-estimator-id-103\" type=\"checkbox\" ><label for=\"sk-estimator-id-103\" class=\"sk-toggleable__label sk-toggleable__label-arrow\">Pipeline</label><div class=\"sk-toggleable__content\"><pre>Pipeline(steps=[(&#x27;standardscaler&#x27;, StandardScaler()),\n",
              "                (&#x27;randomoversampler&#x27;, RandomOverSampler()),\n",
              "                (&#x27;randomforestclassifier&#x27;, RandomForestClassifier())])</pre></div></div></div><div class=\"sk-serial\"><div class=\"sk-item\"><div class=\"sk-estimator sk-toggleable\"><input class=\"sk-toggleable__control sk-hidden--visually\" id=\"sk-estimator-id-104\" type=\"checkbox\" ><label for=\"sk-estimator-id-104\" class=\"sk-toggleable__label sk-toggleable__label-arrow\">StandardScaler</label><div class=\"sk-toggleable__content\"><pre>StandardScaler()</pre></div></div></div><div class=\"sk-item\"><div class=\"sk-estimator sk-toggleable\"><input class=\"sk-toggleable__control sk-hidden--visually\" id=\"sk-estimator-id-105\" type=\"checkbox\" ><label for=\"sk-estimator-id-105\" class=\"sk-toggleable__label sk-toggleable__label-arrow\">RandomOverSampler</label><div class=\"sk-toggleable__content\"><pre>RandomOverSampler()</pre></div></div></div><div class=\"sk-item\"><div class=\"sk-estimator sk-toggleable\"><input class=\"sk-toggleable__control sk-hidden--visually\" id=\"sk-estimator-id-106\" type=\"checkbox\" ><label for=\"sk-estimator-id-106\" class=\"sk-toggleable__label sk-toggleable__label-arrow\">RandomForestClassifier</label><div class=\"sk-toggleable__content\"><pre>RandomForestClassifier()</pre></div></div></div></div></div></div></div>"
            ]
          },
          "metadata": {},
          "execution_count": 324
        }
      ],
      "source": [
        "over_sample_rf_pipe.fit(X_train_over, y_train_over)"
      ]
    },
    {
      "cell_type": "code",
      "execution_count": 325,
      "metadata": {
        "colab": {
          "base_uri": "https://localhost:8080/"
        },
        "id": "BAjY1TLHRDq3",
        "outputId": "de25f8d6-2426-4636-82b4-b3ef8774bb28"
      },
      "outputs": [
        {
          "output_type": "execute_result",
          "data": {
            "text/plain": [
              "array(['<=50K', '>50K', '>50K', ..., '<=50K', '<=50K', '<=50K'],\n",
              "      dtype=object)"
            ]
          },
          "metadata": {},
          "execution_count": 325
        }
      ],
      "source": [
        "rf_predictions = over_sample_rf_pipe.predict(X_test_pca)\n",
        "rf_predictions"
      ]
    },
    {
      "cell_type": "code",
      "execution_count": 326,
      "metadata": {
        "colab": {
          "base_uri": "https://localhost:8080/"
        },
        "id": "OV4GLsCwRKNn",
        "outputId": "1103e6bf-0b07-4f34-987d-9e138f0a567d"
      },
      "outputs": [
        {
          "output_type": "execute_result",
          "data": {
            "text/plain": [
              "0.731237429871917"
            ]
          },
          "metadata": {},
          "execution_count": 326
        }
      ],
      "source": [
        "rf_acc_score = over_sample_rf_pipe.score(X_test_pca, y_test)\n",
        "rf_acc_score"
      ]
    },
    {
      "cell_type": "code",
      "execution_count": 327,
      "metadata": {
        "colab": {
          "base_uri": "https://localhost:8080/",
          "height": 449
        },
        "id": "ZdiubM4hROLK",
        "outputId": "0458183a-b20a-4fc7-cbb8-7a99dec3ff4c"
      },
      "outputs": [
        {
          "output_type": "display_data",
          "data": {
            "text/plain": [
              "<Figure size 640x480 with 2 Axes>"
            ],
            "image/png": "[encoded data removed]"
          },
          "metadata": {}
        }
      ],
      "source": [
        "ConfusionMatrixDisplay.from_predictions(y_test, rf_predictions, normalize='true');"
      ]
    },
    {
      "cell_type": "code",
      "execution_count": 328,
      "metadata": {
        "colab": {
          "base_uri": "https://localhost:8080/"
        },
        "id": "oUW-yVX9RVVK",
        "outputId": "be720595-9779-4545-8a4d-2edba95f590c"
      },
      "outputs": [
        {
          "output_type": "execute_result",
          "data": {
            "text/plain": [
              "{'memory': None,\n",
              " 'steps': [('standardscaler', StandardScaler()),\n",
              "  ('randomoversampler', RandomOverSampler()),\n",
              "  ('randomforestclassifier', RandomForestClassifier())],\n",
              " 'verbose': False,\n",
              " 'standardscaler': StandardScaler(),\n",
              " 'randomoversampler': RandomOverSampler(),\n",
              " 'randomforestclassifier': RandomForestClassifier(),\n",
              " 'standardscaler__copy': True,\n",
              " 'standardscaler__with_mean': True,\n",
              " 'standardscaler__with_std': True,\n",
              " 'randomoversampler__random_state': None,\n",
              " 'randomoversampler__sampling_strategy': 'auto',\n",
              " 'randomoversampler__shrinkage': None,\n",
              " 'randomforestclassifier__bootstrap': True,\n",
              " 'randomforestclassifier__ccp_alpha': 0.0,\n",
              " 'randomforestclassifier__class_weight': None,\n",
              " 'randomforestclassifier__criterion': 'gini',\n",
              " 'randomforestclassifier__max_depth': None,\n",
              " 'randomforestclassifier__max_features': 'sqrt',\n",
              " 'randomforestclassifier__max_leaf_nodes': None,\n",
              " 'randomforestclassifier__max_samples': None,\n",
              " 'randomforestclassifier__min_impurity_decrease': 0.0,\n",
              " 'randomforestclassifier__min_samples_leaf': 1,\n",
              " 'randomforestclassifier__min_samples_split': 2,\n",
              " 'randomforestclassifier__min_weight_fraction_leaf': 0.0,\n",
              " 'randomforestclassifier__n_estimators': 100,\n",
              " 'randomforestclassifier__n_jobs': None,\n",
              " 'randomforestclassifier__oob_score': False,\n",
              " 'randomforestclassifier__random_state': None,\n",
              " 'randomforestclassifier__verbose': 0,\n",
              " 'randomforestclassifier__warm_start': False}"
            ]
          },
          "metadata": {},
          "execution_count": 328
        }
      ],
      "source": [
        "over_sample_rf_pipe.get_params()"
      ]
    },
    {
      "cell_type": "code",
      "execution_count": 329,
      "metadata": {
        "id": "ckB8lQtqRYyj"
      },
      "outputs": [],
      "source": [
        "rf_param_grid = {'randomforestclassifier__max_depth': [1,2,3],\n",
        "              'randomforestclassifier__min_samples_leaf': [3,15,20],\n",
        "              'randomforestclassifier__min_samples_split': [2, 10, 100]}"
      ]
    },
    {
      "cell_type": "code",
      "execution_count": 330,
      "metadata": {
        "id": "NG3STgbjRbUO"
      },
      "outputs": [],
      "source": [
        "rf_grid_search = GridSearchCV(over_sample_rf_pipe, rf_param_grid)"
      ]
    },
    {
      "cell_type": "code",
      "execution_count": 331,
      "metadata": {
        "colab": {
          "base_uri": "https://localhost:8080/",
          "height": 184
        },
        "id": "WHYQNBGBRd7I",
        "outputId": "9d4ad2c9-c255-4bce-8199-0c73d9aaf295"
      },
      "outputs": [
        {
          "output_type": "execute_result",
          "data": {
            "text/plain": [
              "GridSearchCV(estimator=Pipeline(steps=[('standardscaler', StandardScaler()),\n",
              "                                       ('randomoversampler',\n",
              "                                        RandomOverSampler()),\n",
              "                                       ('randomforestclassifier',\n",
              "                                        RandomForestClassifier())]),\n",
              "             param_grid={'randomforestclassifier__max_depth': [1, 2, 3],\n",
              "                         'randomforestclassifier__min_samples_leaf': [3, 15,\n",
              "                                                                      20],\n",
              "                         'randomforestclassifier__min_samples_split': [2, 10,\n",
              "                                                                       100]})"
            ],
            "text/html": [
              "<style>#sk-container-id-27 {color: black;background-color: white;}#sk-container-id-27 pre{padding: 0;}#sk-container-id-27 div.sk-toggleable {background-color: white;}#sk-container-id-27 label.sk-toggleable__label {cursor: pointer;display: block;width: 100%;margin-bottom: 0;padding: 0.3em;box-sizing: border-box;text-align: center;}#sk-container-id-27 label.sk-toggleable__label-arrow:before {content: \"▸\";float: left;margin-right: 0.25em;color: #696969;}#sk-container-id-27 label.sk-toggleable__label-arrow:hover:before {color: black;}#sk-container-id-27 div.sk-estimator:hover label.sk-toggleable__label-arrow:before {color: black;}#sk-container-id-27 div.sk-toggleable__content {max-height: 0;max-width: 0;overflow: hidden;text-align: left;background-color: #f0f8ff;}#sk-container-id-27 div.sk-toggleable__content pre {margin: 0.2em;color: black;border-radius: 0.25em;background-color: #f0f8ff;}#sk-container-id-27 input.sk-toggleable__control:checked~div.sk-toggleable__content {max-height: 200px;max-width: 100%;overflow: auto;}#sk-container-id-27 input.sk-toggleable__control:checked~label.sk-toggleable__label-arrow:before {content: \"▾\";}#sk-container-id-27 div.sk-estimator input.sk-toggleable__control:checked~label.sk-toggleable__label {background-color: #d4ebff;}#sk-container-id-27 div.sk-label input.sk-toggleable__control:checked~label.sk-toggleable__label {background-color: #d4ebff;}#sk-container-id-27 input.sk-hidden--visually {border: 0;clip: rect(1px 1px 1px 1px);clip: rect(1px, 1px, 1px, 1px);height: 1px;margin: -1px;overflow: hidden;padding: 0;position: absolute;width: 1px;}#sk-container-id-27 div.sk-estimator {font-family: monospace;background-color: #f0f8ff;border: 1px dotted black;border-radius: 0.25em;box-sizing: border-box;margin-bottom: 0.5em;}#sk-container-id-27 div.sk-estimator:hover {background-color: #d4ebff;}#sk-container-id-27 div.sk-parallel-item::after {content: \"\";width: 100%;border-bottom: 1px solid gray;flex-grow: 1;}#sk-container-id-27 div.sk-label:hover label.sk-toggleable__label {background-color: #d4ebff;}#sk-container-id-27 div.sk-serial::before {content: \"\";position: absolute;border-left: 1px solid gray;box-sizing: border-box;top: 0;bottom: 0;left: 50%;z-index: 0;}#sk-container-id-27 div.sk-serial {display: flex;flex-direction: column;align-items: center;background-color: white;padding-right: 0.2em;padding-left: 0.2em;position: relative;}#sk-container-id-27 div.sk-item {position: relative;z-index: 1;}#sk-container-id-27 div.sk-parallel {display: flex;align-items: stretch;justify-content: center;background-color: white;position: relative;}#sk-container-id-27 div.sk-item::before, #sk-container-id-27 div.sk-parallel-item::before {content: \"\";position: absolute;border-left: 1px solid gray;box-sizing: border-box;top: 0;bottom: 0;left: 50%;z-index: -1;}#sk-container-id-27 div.sk-parallel-item {display: flex;flex-direction: column;z-index: 1;position: relative;background-color: white;}#sk-container-id-27 div.sk-parallel-item:first-child::after {align-self: flex-end;width: 50%;}#sk-container-id-27 div.sk-parallel-item:last-child::after {align-self: flex-start;width: 50%;}#sk-container-id-27 div.sk-parallel-item:only-child::after {width: 0;}#sk-container-id-27 div.sk-dashed-wrapped {border: 1px dashed gray;margin: 0 0.4em 0.5em 0.4em;box-sizing: border-box;padding-bottom: 0.4em;background-color: white;}#sk-container-id-27 div.sk-label label {font-family: monospace;font-weight: bold;display: inline-block;line-height: 1.2em;}#sk-container-id-27 div.sk-label-container {text-align: center;}#sk-container-id-27 div.sk-container {/* jupyter's `normalize.less` sets `[hidden] { display: none; }` but bootstrap.min.css set `[hidden] { display: none !important; }` so we also need the `!important` here to be able to override the default hidden behavior on the sphinx rendered scikit-learn.org. See: https://github.com/scikit-learn/scikit-learn/issues/21755 */display: inline-block !important;position: relative;}#sk-container-id-27 div.sk-text-repr-fallback {display: none;}</style><div id=\"sk-container-id-27\" class=\"sk-top-container\"><div class=\"sk-text-repr-fallback\"><pre>GridSearchCV(estimator=Pipeline(steps=[(&#x27;standardscaler&#x27;, StandardScaler()),\n",
              "                                       (&#x27;randomoversampler&#x27;,\n",
              "                                        RandomOverSampler()),\n",
              "                                       (&#x27;randomforestclassifier&#x27;,\n",
              "                                        RandomForestClassifier())]),\n",
              "             param_grid={&#x27;randomforestclassifier__max_depth&#x27;: [1, 2, 3],\n",
              "                         &#x27;randomforestclassifier__min_samples_leaf&#x27;: [3, 15,\n",
              "                                                                      20],\n",
              "                         &#x27;randomforestclassifier__min_samples_split&#x27;: [2, 10,\n",
              "                                                                       100]})</pre><b>In a Jupyter environment, please rerun this cell to show the HTML representation or trust the notebook. <br />On GitHub, the HTML representation is unable to render, please try loading this page with nbviewer.org.</b></div><div class=\"sk-container\" hidden><div class=\"sk-item sk-dashed-wrapped\"><div class=\"sk-label-container\"><div class=\"sk-label sk-toggleable\"><input class=\"sk-toggleable__control sk-hidden--visually\" id=\"sk-estimator-id-107\" type=\"checkbox\" ><label for=\"sk-estimator-id-107\" class=\"sk-toggleable__label sk-toggleable__label-arrow\">GridSearchCV</label><div class=\"sk-toggleable__content\"><pre>GridSearchCV(estimator=Pipeline(steps=[(&#x27;standardscaler&#x27;, StandardScaler()),\n",
              "                                       (&#x27;randomoversampler&#x27;,\n",
              "                                        RandomOverSampler()),\n",
              "                                       (&#x27;randomforestclassifier&#x27;,\n",
              "                                        RandomForestClassifier())]),\n",
              "             param_grid={&#x27;randomforestclassifier__max_depth&#x27;: [1, 2, 3],\n",
              "                         &#x27;randomforestclassifier__min_samples_leaf&#x27;: [3, 15,\n",
              "                                                                      20],\n",
              "                         &#x27;randomforestclassifier__min_samples_split&#x27;: [2, 10,\n",
              "                                                                       100]})</pre></div></div></div><div class=\"sk-parallel\"><div class=\"sk-parallel-item\"><div class=\"sk-item\"><div class=\"sk-label-container\"><div class=\"sk-label sk-toggleable\"><input class=\"sk-toggleable__control sk-hidden--visually\" id=\"sk-estimator-id-108\" type=\"checkbox\" ><label for=\"sk-estimator-id-108\" class=\"sk-toggleable__label sk-toggleable__label-arrow\">estimator: Pipeline</label><div class=\"sk-toggleable__content\"><pre>Pipeline(steps=[(&#x27;standardscaler&#x27;, StandardScaler()),\n",
              "                (&#x27;randomoversampler&#x27;, RandomOverSampler()),\n",
              "                (&#x27;randomforestclassifier&#x27;, RandomForestClassifier())])</pre></div></div></div><div class=\"sk-serial\"><div class=\"sk-item\"><div class=\"sk-serial\"><div class=\"sk-item\"><div class=\"sk-estimator sk-toggleable\"><input class=\"sk-toggleable__control sk-hidden--visually\" id=\"sk-estimator-id-109\" type=\"checkbox\" ><label for=\"sk-estimator-id-109\" class=\"sk-toggleable__label sk-toggleable__label-arrow\">StandardScaler</label><div class=\"sk-toggleable__content\"><pre>StandardScaler()</pre></div></div></div><div class=\"sk-item\"><div class=\"sk-estimator sk-toggleable\"><input class=\"sk-toggleable__control sk-hidden--visually\" id=\"sk-estimator-id-110\" type=\"checkbox\" ><label for=\"sk-estimator-id-110\" class=\"sk-toggleable__label sk-toggleable__label-arrow\">RandomOverSampler</label><div class=\"sk-toggleable__content\"><pre>RandomOverSampler()</pre></div></div></div><div class=\"sk-item\"><div class=\"sk-estimator sk-toggleable\"><input class=\"sk-toggleable__control sk-hidden--visually\" id=\"sk-estimator-id-111\" type=\"checkbox\" ><label for=\"sk-estimator-id-111\" class=\"sk-toggleable__label sk-toggleable__label-arrow\">RandomForestClassifier</label><div class=\"sk-toggleable__content\"><pre>RandomForestClassifier()</pre></div></div></div></div></div></div></div></div></div></div></div></div>"
            ]
          },
          "metadata": {},
          "execution_count": 331
        }
      ],
      "source": [
        "rf_grid_search.fit(X_train_over, y_train_over)"
      ]
    },
    {
      "cell_type": "code",
      "execution_count": 297,
      "metadata": {
        "colab": {
          "base_uri": "https://localhost:8080/"
        },
        "id": "bRlVUjE5RkcK",
        "outputId": "83788a2c-139e-42b5-eb72-4ff38849ad73"
      },
      "outputs": [
        {
          "output_type": "stream",
          "name": "stdout",
          "text": [
            "Best Random Forest Parameters:\n",
            "{'max_depth': 3, 'min_samples_leaf': 3, 'min_samples_split': 2}\n",
            "Accuracy of best Logistic Regression model is: 0.7987720969619985\n"
          ]
        }
      ],
      "source": [
        "print('Best Random Forest Parameters:')\n",
        "print(rf_grid_search.best_params_)\n",
        "best_pipe = rf_grid_search.best_estimator_\n",
        "print(f'Accuracy of best Logistic Regression model is: {best_pipe.score(X_test_pca, y_test)}')"
      ]
    },
    {
      "cell_type": "code",
      "execution_count": 332,
      "metadata": {
        "colab": {
          "base_uri": "https://localhost:8080/"
        },
        "id": "R4hhCy5yTIqM",
        "outputId": "d2a08fe1-fa74-490c-ce18-76b63ffb6386"
      },
      "outputs": [
        {
          "output_type": "execute_result",
          "data": {
            "text/plain": [
              "array(['<=50K', '>50K', '<=50K', ..., '<=50K', '<=50K', '<=50K'],\n",
              "      dtype=object)"
            ]
          },
          "metadata": {},
          "execution_count": 332
        }
      ],
      "source": [
        "rf_gs_predictions = rf_grid_search.predict(X_test_pca)\n",
        "rf_gs_predictions"
      ]
    },
    {
      "cell_type": "code",
      "execution_count": 333,
      "metadata": {
        "colab": {
          "base_uri": "https://localhost:8080/"
        },
        "id": "D7RVXK0sTJQY",
        "outputId": "0a10cfac-f617-4124-9090-aff525a375cb"
      },
      "outputs": [
        {
          "output_type": "execute_result",
          "data": {
            "text/plain": [
              "0.6994813168201546"
            ]
          },
          "metadata": {},
          "execution_count": 333
        }
      ],
      "source": [
        "rfgs_acc_score = rf_grid_search.score(X_test_pca, y_test)\n",
        "rfgs_acc_score"
      ]
    },
    {
      "cell_type": "code",
      "execution_count": 334,
      "metadata": {
        "colab": {
          "base_uri": "https://localhost:8080/"
        },
        "id": "g4qk0tkgd3kq",
        "outputId": "0dc32631-3a6d-4028-cebf-15a80701a5a2"
      },
      "outputs": [
        {
          "output_type": "stream",
          "name": "stdout",
          "text": [
            "              precision    recall  f1-score   support\n",
            "\n",
            "       <=50K       0.89      0.67      0.77      6980\n",
            "        >50K       0.46      0.77      0.57      2467\n",
            "\n",
            "    accuracy                           0.70      9447\n",
            "   macro avg       0.67      0.72      0.67      9447\n",
            "weighted avg       0.78      0.70      0.72      9447\n",
            "\n"
          ]
        }
      ],
      "source": [
        "print(classification_report(y_test, rf_gs_predictions))"
      ]
    },
    {
      "cell_type": "code",
      "execution_count": 335,
      "metadata": {
        "colab": {
          "base_uri": "https://localhost:8080/",
          "height": 449
        },
        "id": "CQZ8KDN8ZVDj",
        "outputId": "8e2cc167-4209-4e1b-e84d-e37e0e6de2d6"
      },
      "outputs": [
        {
          "output_type": "display_data",
          "data": {
            "text/plain": [
              "<Figure size 640x480 with 2 Axes>"
            ],
            "image/png": "[encoded data removed]"
          },
          "metadata": {}
        }
      ],
      "source": [
        "ConfusionMatrixDisplay.from_predictions(y_test, rf_gs_predictions, normalize='true');"
      ]
    },
    {
      "cell_type": "markdown",
      "source": [
        "###Random Forest Observations:\n",
        "- Predicts <=50k 89% correct\n",
        "- Only predicts >50k 46% correct\n",
        "- Overall accuracy score .69\n",
        "- Not a great model to use"
      ],
      "metadata": {
        "id": "65wnXdzhYTBG"
      }
    },
    {
      "cell_type": "markdown",
      "metadata": {
        "id": "LCN-pzx4UO_s"
      },
      "source": [
        "###Logistic Regression"
      ]
    },
    {
      "cell_type": "code",
      "execution_count": 338,
      "metadata": {
        "colab": {
          "base_uri": "https://localhost:8080/",
          "height": 636
        },
        "id": "VMSpnS7CTOQD",
        "outputId": "b0de62ca-8d26-41ec-81c5-a69b9067cdb0"
      },
      "outputs": [
        {
          "output_type": "stream",
          "name": "stdout",
          "text": [
            "0.7067120855922852\n",
            "0.7288027945379486\n",
            "              precision    recall  f1-score   support\n",
            "\n",
            "       <=50K       0.87      0.75      0.80      6980\n",
            "        >50K       0.49      0.68      0.57      2467\n",
            "\n",
            "    accuracy                           0.73      9447\n",
            "   macro avg       0.68      0.71      0.68      9447\n",
            "weighted avg       0.77      0.73      0.74      9447\n",
            "\n"
          ]
        },
        {
          "output_type": "display_data",
          "data": {
            "text/plain": [
              "<Figure size 640x480 with 2 Axes>"
            ],
            "image/png": "[encoded data removed]"
          },
          "metadata": {}
        }
      ],
      "source": [
        "# Make an instance of the model with default parameters\n",
        "logreg = LogisticRegression(max_iter=1000)\n",
        "# Put scaler and model in a pipeline\n",
        "over_sample_logreg_pipe = make_sampler_pipeline(scaler, over_sampler, logreg)\n",
        "# Train the model on the data, store the information learned from the data\n",
        "over_sample_logreg_pipe.fit(X_train_over, y_train_over)\n",
        "\n",
        "logreg_predictions = over_sample_logreg_pipe.predict(X_test_pca)\n",
        "print(over_sample_logreg_pipe.score(X_train_over, y_train_over))\n",
        "print(over_sample_logreg_pipe.score(X_test_pca, y_test))\n",
        "\n",
        "print(classification_report(y_test, logreg_predictions))\n",
        "ConfusionMatrixDisplay.from_predictions(y_test, logreg_predictions, normalize='true', cmap='Greens');"
      ]
    },
    {
      "cell_type": "code",
      "execution_count": 339,
      "metadata": {
        "colab": {
          "base_uri": "https://localhost:8080/"
        },
        "id": "rLqBl0wPUiGg",
        "outputId": "baca34f5-d249-4405-f5a8-3b20b9d514b4"
      },
      "outputs": [
        {
          "output_type": "execute_result",
          "data": {
            "text/plain": [
              "0.7288027945379486"
            ]
          },
          "metadata": {},
          "execution_count": 339
        }
      ],
      "source": [
        "accuracy = accuracy_score(y_test, logreg_predictions)\n",
        "accuracy"
      ]
    },
    {
      "cell_type": "code",
      "execution_count": 340,
      "metadata": {
        "colab": {
          "base_uri": "https://localhost:8080/",
          "height": 449
        },
        "id": "AWOki6jzUjFy",
        "outputId": "da668b0a-e575-40fd-ba9b-87a49500cd79"
      },
      "outputs": [
        {
          "output_type": "display_data",
          "data": {
            "text/plain": [
              "<Figure size 640x480 with 2 Axes>"
            ],
            "image/png": "[encoded data removed]"
          },
          "metadata": {}
        }
      ],
      "source": [
        "ConfusionMatrixDisplay.from_predictions(y_test, logreg_predictions, normalize='true');"
      ]
    },
    {
      "cell_type": "code",
      "execution_count": 342,
      "metadata": {
        "colab": {
          "base_uri": "https://localhost:8080/"
        },
        "id": "wiFXNvflUmny",
        "outputId": "772404b1-e1dd-41d1-c5ac-1d684c0f7de3"
      },
      "outputs": [
        {
          "output_type": "execute_result",
          "data": {
            "text/plain": [
              "{'memory': None,\n",
              " 'steps': [('standardscaler', StandardScaler()),\n",
              "  ('randomoversampler', RandomOverSampler()),\n",
              "  ('logisticregression', LogisticRegression(max_iter=1000))],\n",
              " 'verbose': False,\n",
              " 'standardscaler': StandardScaler(),\n",
              " 'randomoversampler': RandomOverSampler(),\n",
              " 'logisticregression': LogisticRegression(max_iter=1000),\n",
              " 'standardscaler__copy': True,\n",
              " 'standardscaler__with_mean': True,\n",
              " 'standardscaler__with_std': True,\n",
              " 'randomoversampler__random_state': None,\n",
              " 'randomoversampler__sampling_strategy': 'auto',\n",
              " 'randomoversampler__shrinkage': None,\n",
              " 'logisticregression__C': 1.0,\n",
              " 'logisticregression__class_weight': None,\n",
              " 'logisticregression__dual': False,\n",
              " 'logisticregression__fit_intercept': True,\n",
              " 'logisticregression__intercept_scaling': 1,\n",
              " 'logisticregression__l1_ratio': None,\n",
              " 'logisticregression__max_iter': 1000,\n",
              " 'logisticregression__multi_class': 'auto',\n",
              " 'logisticregression__n_jobs': None,\n",
              " 'logisticregression__penalty': 'l2',\n",
              " 'logisticregression__random_state': None,\n",
              " 'logisticregression__solver': 'lbfgs',\n",
              " 'logisticregression__tol': 0.0001,\n",
              " 'logisticregression__verbose': 0,\n",
              " 'logisticregression__warm_start': False}"
            ]
          },
          "metadata": {},
          "execution_count": 342
        }
      ],
      "source": [
        "#GridSearchCV\n",
        "over_sample_logreg_pipe.get_params()"
      ]
    },
    {
      "cell_type": "code",
      "execution_count": 343,
      "metadata": {
        "id": "ano9ZjfnUq_f"
      },
      "outputs": [],
      "source": [
        "pipe_param_grid = {'logisticregression__penalty': ['l1', 'l2'],\n",
        "               'logisticregression__solver': ['liblinear'],\n",
        "              'logisticregression__C': [.0001, .001, .01, .1, 1, 10, 100, 1000, 10000]}"
      ]
    },
    {
      "cell_type": "code",
      "execution_count": 344,
      "metadata": {
        "colab": {
          "base_uri": "https://localhost:8080/"
        },
        "id": "RC0jH9-5UxUJ",
        "outputId": "7bf67a21-4a2e-4562-95a1-47d5930c9c2e"
      },
      "outputs": [
        {
          "output_type": "stream",
          "name": "stdout",
          "text": [
            "Best Logistic Regression Parameters:\n",
            "{'logisticregression__C': 0.001, 'logisticregression__penalty': 'l2', 'logisticregression__solver': 'liblinear'}\n",
            "Accuracy of best Logistic Regression model is: 0.7158886418968985\n"
          ]
        }
      ],
      "source": [
        "lr_pipe_gs = GridSearchCV(over_sample_logreg_pipe, pipe_param_grid)\n",
        "\n",
        "lr_pipe_gs.fit(X_train_over, y_train_over)\n",
        "print('Best Logistic Regression Parameters:')\n",
        "print(lr_pipe_gs.best_params_)\n",
        "best_pipe = lr_pipe_gs.best_estimator_\n",
        "print(f'Accuracy of best Logistic Regression model is: {best_pipe.score(X_test_pca, y_test)}')"
      ]
    },
    {
      "cell_type": "code",
      "execution_count": 345,
      "metadata": {
        "id": "2IM0x7f_U_-V"
      },
      "outputs": [],
      "source": [
        "lr_pipe_predictions = lr_pipe_gs.predict(X_test_pca)"
      ]
    },
    {
      "cell_type": "code",
      "execution_count": 346,
      "metadata": {
        "colab": {
          "base_uri": "https://localhost:8080/"
        },
        "id": "4T1CwVYnVAb2",
        "outputId": "6cdd7d33-4182-4b90-9600-aca5a969590c"
      },
      "outputs": [
        {
          "output_type": "execute_result",
          "data": {
            "text/plain": [
              "0.7158886418968985"
            ]
          },
          "metadata": {},
          "execution_count": 346
        }
      ],
      "source": [
        "lr_pipe_accuracy = accuracy_score(y_test, lr_pipe_predictions)\n",
        "lr_pipe_accuracy"
      ]
    },
    {
      "cell_type": "code",
      "execution_count": 347,
      "metadata": {
        "colab": {
          "base_uri": "https://localhost:8080/",
          "height": 449
        },
        "id": "Er-rLlRVVEqS",
        "outputId": "765359e1-9954-4846-db72-f035d91b0a16"
      },
      "outputs": [
        {
          "output_type": "display_data",
          "data": {
            "text/plain": [
              "<Figure size 640x480 with 2 Axes>"
            ],
            "image/png": "[encoded data removed]"
          },
          "metadata": {}
        }
      ],
      "source": [
        "ConfusionMatrixDisplay.from_predictions(y_test, lr_pipe_predictions, normalize='true');"
      ]
    },
    {
      "cell_type": "code",
      "execution_count": 348,
      "metadata": {
        "colab": {
          "base_uri": "https://localhost:8080/"
        },
        "id": "rWo4GEkSVIEI",
        "outputId": "36bda82b-2f16-41e7-e6d0-fb9c165295b2"
      },
      "outputs": [
        {
          "output_type": "stream",
          "name": "stdout",
          "text": [
            "              precision    recall  f1-score   support\n",
            "\n",
            "       <=50K       0.87      0.72      0.79      6980\n",
            "        >50K       0.47      0.70      0.56      2467\n",
            "\n",
            "    accuracy                           0.72      9447\n",
            "   macro avg       0.67      0.71      0.68      9447\n",
            "weighted avg       0.77      0.72      0.73      9447\n",
            "\n"
          ]
        }
      ],
      "source": [
        "print(classification_report(y_test, lr_pipe_predictions))"
      ]
    },
    {
      "cell_type": "markdown",
      "source": [
        "###Logistic Regression Observations:\n",
        "- Predicts <=50k 87% correct\n",
        "- Only predicts >50k 47% correct\n",
        "- Overall accuracy score .71\n",
        "- Not the best model to use"
      ],
      "metadata": {
        "id": "i6a64dqfYxjg"
      }
    },
    {
      "cell_type": "markdown",
      "source": [
        "##XGBoost Model"
      ],
      "metadata": {
        "id": "ZR0Ll2-KKDYs"
      }
    },
    {
      "cell_type": "code",
      "execution_count": 358,
      "metadata": {
        "id": "R4S2tzjvf1zI",
        "colab": {
          "base_uri": "https://localhost:8080/",
          "height": 244
        },
        "outputId": "237d9304-13e5-47ef-abb6-ed90529e3d63"
      },
      "outputs": [
        {
          "output_type": "execute_result",
          "data": {
            "text/plain": [
              "XGBClassifier(base_score=None, booster=None, callbacks=None,\n",
              "              colsample_bylevel=None, colsample_bynode=None,\n",
              "              colsample_bytree=None, early_stopping_rounds=None,\n",
              "              enable_categorical=False, eval_metric=None, feature_types=None,\n",
              "              gamma=None, gpu_id=None, grow_policy=None, importance_type=None,\n",
              "              interaction_constraints=None, learning_rate=None, max_bin=None,\n",
              "              max_cat_threshold=None, max_cat_to_onehot=None,\n",
              "              max_delta_step=None, max_depth=None, max_leaves=None,\n",
              "              min_child_weight=None, missing=nan, monotone_constraints=None,\n",
              "              n_estimators=100, n_jobs=None, num_parallel_tree=None,\n",
              "              predictor=None, random_state=None, ...)"
            ],
            "text/html": [
              "<style>#sk-container-id-29 {color: black;background-color: white;}#sk-container-id-29 pre{padding: 0;}#sk-container-id-29 div.sk-toggleable {background-color: white;}#sk-container-id-29 label.sk-toggleable__label {cursor: pointer;display: block;width: 100%;margin-bottom: 0;padding: 0.3em;box-sizing: border-box;text-align: center;}#sk-container-id-29 label.sk-toggleable__label-arrow:before {content: \"▸\";float: left;margin-right: 0.25em;color: #696969;}#sk-container-id-29 label.sk-toggleable__label-arrow:hover:before {color: black;}#sk-container-id-29 div.sk-estimator:hover label.sk-toggleable__label-arrow:before {color: black;}#sk-container-id-29 div.sk-toggleable__content {max-height: 0;max-width: 0;overflow: hidden;text-align: left;background-color: #f0f8ff;}#sk-container-id-29 div.sk-toggleable__content pre {margin: 0.2em;color: black;border-radius: 0.25em;background-color: #f0f8ff;}#sk-container-id-29 input.sk-toggleable__control:checked~div.sk-toggleable__content {max-height: 200px;max-width: 100%;overflow: auto;}#sk-container-id-29 input.sk-toggleable__control:checked~label.sk-toggleable__label-arrow:before {content: \"▾\";}#sk-container-id-29 div.sk-estimator input.sk-toggleable__control:checked~label.sk-toggleable__label {background-color: #d4ebff;}#sk-container-id-29 div.sk-label input.sk-toggleable__control:checked~label.sk-toggleable__label {background-color: #d4ebff;}#sk-container-id-29 input.sk-hidden--visually {border: 0;clip: rect(1px 1px 1px 1px);clip: rect(1px, 1px, 1px, 1px);height: 1px;margin: -1px;overflow: hidden;padding: 0;position: absolute;width: 1px;}#sk-container-id-29 div.sk-estimator {font-family: monospace;background-color: #f0f8ff;border: 1px dotted black;border-radius: 0.25em;box-sizing: border-box;margin-bottom: 0.5em;}#sk-container-id-29 div.sk-estimator:hover {background-color: #d4ebff;}#sk-container-id-29 div.sk-parallel-item::after {content: \"\";width: 100%;border-bottom: 1px solid gray;flex-grow: 1;}#sk-container-id-29 div.sk-label:hover label.sk-toggleable__label {background-color: #d4ebff;}#sk-container-id-29 div.sk-serial::before {content: \"\";position: absolute;border-left: 1px solid gray;box-sizing: border-box;top: 0;bottom: 0;left: 50%;z-index: 0;}#sk-container-id-29 div.sk-serial {display: flex;flex-direction: column;align-items: center;background-color: white;padding-right: 0.2em;padding-left: 0.2em;position: relative;}#sk-container-id-29 div.sk-item {position: relative;z-index: 1;}#sk-container-id-29 div.sk-parallel {display: flex;align-items: stretch;justify-content: center;background-color: white;position: relative;}#sk-container-id-29 div.sk-item::before, #sk-container-id-29 div.sk-parallel-item::before {content: \"\";position: absolute;border-left: 1px solid gray;box-sizing: border-box;top: 0;bottom: 0;left: 50%;z-index: -1;}#sk-container-id-29 div.sk-parallel-item {display: flex;flex-direction: column;z-index: 1;position: relative;background-color: white;}#sk-container-id-29 div.sk-parallel-item:first-child::after {align-self: flex-end;width: 50%;}#sk-container-id-29 div.sk-parallel-item:last-child::after {align-self: flex-start;width: 50%;}#sk-container-id-29 div.sk-parallel-item:only-child::after {width: 0;}#sk-container-id-29 div.sk-dashed-wrapped {border: 1px dashed gray;margin: 0 0.4em 0.5em 0.4em;box-sizing: border-box;padding-bottom: 0.4em;background-color: white;}#sk-container-id-29 div.sk-label label {font-family: monospace;font-weight: bold;display: inline-block;line-height: 1.2em;}#sk-container-id-29 div.sk-label-container {text-align: center;}#sk-container-id-29 div.sk-container {/* jupyter's `normalize.less` sets `[hidden] { display: none; }` but bootstrap.min.css set `[hidden] { display: none !important; }` so we also need the `!important` here to be able to override the default hidden behavior on the sphinx rendered scikit-learn.org. See: https://github.com/scikit-learn/scikit-learn/issues/21755 */display: inline-block !important;position: relative;}#sk-container-id-29 div.sk-text-repr-fallback {display: none;}</style><div id=\"sk-container-id-29\" class=\"sk-top-container\"><div class=\"sk-text-repr-fallback\"><pre>XGBClassifier(base_score=None, booster=None, callbacks=None,\n",
              "              colsample_bylevel=None, colsample_bynode=None,\n",
              "              colsample_bytree=None, early_stopping_rounds=None,\n",
              "              enable_categorical=False, eval_metric=None, feature_types=None,\n",
              "              gamma=None, gpu_id=None, grow_policy=None, importance_type=None,\n",
              "              interaction_constraints=None, learning_rate=None, max_bin=None,\n",
              "              max_cat_threshold=None, max_cat_to_onehot=None,\n",
              "              max_delta_step=None, max_depth=None, max_leaves=None,\n",
              "              min_child_weight=None, missing=nan, monotone_constraints=None,\n",
              "              n_estimators=100, n_jobs=None, num_parallel_tree=None,\n",
              "              predictor=None, random_state=None, ...)</pre><b>In a Jupyter environment, please rerun this cell to show the HTML representation or trust the notebook. <br />On GitHub, the HTML representation is unable to render, please try loading this page with nbviewer.org.</b></div><div class=\"sk-container\" hidden><div class=\"sk-item\"><div class=\"sk-estimator sk-toggleable\"><input class=\"sk-toggleable__control sk-hidden--visually\" id=\"sk-estimator-id-113\" type=\"checkbox\" checked><label for=\"sk-estimator-id-113\" class=\"sk-toggleable__label sk-toggleable__label-arrow\">XGBClassifier</label><div class=\"sk-toggleable__content\"><pre>XGBClassifier(base_score=None, booster=None, callbacks=None,\n",
              "              colsample_bylevel=None, colsample_bynode=None,\n",
              "              colsample_bytree=None, early_stopping_rounds=None,\n",
              "              enable_categorical=False, eval_metric=None, feature_types=None,\n",
              "              gamma=None, gpu_id=None, grow_policy=None, importance_type=None,\n",
              "              interaction_constraints=None, learning_rate=None, max_bin=None,\n",
              "              max_cat_threshold=None, max_cat_to_onehot=None,\n",
              "              max_delta_step=None, max_depth=None, max_leaves=None,\n",
              "              min_child_weight=None, missing=nan, monotone_constraints=None,\n",
              "              n_estimators=100, n_jobs=None, num_parallel_tree=None,\n",
              "              predictor=None, random_state=None, ...)</pre></div></div></div></div></div>"
            ]
          },
          "metadata": {},
          "execution_count": 358
        }
      ],
      "source": [
        "from sklearn.preprocessing import LabelEncoder\n",
        "le = LabelEncoder()\n",
        "y_train_gb = le.fit_transform(y_train_over)\n",
        "y_test_gb = le.fit_transform(y_test)\n",
        "\n",
        "xgb = XGBClassifier()\n",
        "xgb.fit(X_train_over, y_train_gb)"
      ]
    },
    {
      "cell_type": "code",
      "source": [
        "gb_pipe_predictions = xgb.predict(X_test_pca)\n",
        "gb_pipe_predictions"
      ],
      "metadata": {
        "colab": {
          "base_uri": "https://localhost:8080/"
        },
        "id": "q0A7yCp6KKbu",
        "outputId": "ab2be306-e63d-4b67-be5d-911bef542a0f"
      },
      "execution_count": 365,
      "outputs": [
        {
          "output_type": "execute_result",
          "data": {
            "text/plain": [
              "array([0, 1, 1, ..., 0, 0, 0])"
            ]
          },
          "metadata": {},
          "execution_count": 365
        }
      ]
    },
    {
      "cell_type": "code",
      "source": [
        "gb_pipe_accuracy = accuracy_score(y_test_gb, gb_pipe_predictions)\n",
        "gb_pipe_accuracy"
      ],
      "metadata": {
        "colab": {
          "base_uri": "https://localhost:8080/"
        },
        "id": "5OLNJYCbNEl5",
        "outputId": "2e868c4d-1b66-4e55-b476-318768e944d1"
      },
      "execution_count": 366,
      "outputs": [
        {
          "output_type": "execute_result",
          "data": {
            "text/plain": [
              "0.737482798772097"
            ]
          },
          "metadata": {},
          "execution_count": 366
        }
      ]
    },
    {
      "cell_type": "code",
      "source": [
        "ConfusionMatrixDisplay.from_predictions(y_test_gb, gb_pipe_predictions, normalize='true');"
      ],
      "metadata": {
        "colab": {
          "base_uri": "https://localhost:8080/",
          "height": 449
        },
        "id": "goN8XFJ9NlNz",
        "outputId": "941fdfda-8f67-4724-9ad8-aa8756ecd5a0"
      },
      "execution_count": 367,
      "outputs": [
        {
          "output_type": "display_data",
          "data": {
            "text/plain": [
              "<Figure size 640x480 with 2 Axes>"
            ],
            "image/png": "[encoded data removed]"
          },
          "metadata": {}
        }
      ]
    },
    {
      "cell_type": "code",
      "source": [
        "print(classification_report(y_test_gb, gb_pipe_predictions))"
      ],
      "metadata": {
        "colab": {
          "base_uri": "https://localhost:8080/"
        },
        "id": "9iPgBxnOW9lk",
        "outputId": "b072d2c5-fe6c-4d27-de59-1bfcedd79a42"
      },
      "execution_count": 378,
      "outputs": [
        {
          "output_type": "stream",
          "name": "stdout",
          "text": [
            "              precision    recall  f1-score   support\n",
            "\n",
            "           0       0.89      0.73      0.81      6980\n",
            "           1       0.50      0.75      0.60      2467\n",
            "\n",
            "    accuracy                           0.74      9447\n",
            "   macro avg       0.69      0.74      0.70      9447\n",
            "weighted avg       0.79      0.74      0.75      9447\n",
            "\n"
          ]
        }
      ]
    },
    {
      "cell_type": "markdown",
      "source": [
        "###XGBoost Observations:\n",
        "- Predicts <=50k 89% correct\n",
        "- Only predicts >50k 50% correct\n",
        "- Overall accuracy score .73\n",
        "- Not the best model to use"
      ],
      "metadata": {
        "id": "2h3A_CEUZIHI"
      }
    },
    {
      "cell_type": "markdown",
      "source": [
        "#Final Choice:\n",
        "- The best model to use is KNN with hyperparameter tuning: {'kneighborsclassifier__n_neighbors': 2, 'kneighborsclassifier__p': 4, 'kneighborsclassifier__weights': 'uniform'}\n",
        "\n",
        "- Predicts <=50 81% precision\n",
        "- Predicts >50k 73% precision\n",
        "- Overall .72 accuracy score\n",
        "- Doesn't have the highest precision for <=50k of all models but has the highest precision for >50k.\n",
        "  - The precision for both classes is closest together in this model."
      ],
      "metadata": {
        "id": "ySF0b0ilZf0n"
      }
    },
    {
      "cell_type": "code",
      "source": [],
      "metadata": {
        "id": "1e1PaJsoZh3Y"
      },
      "execution_count": null,
      "outputs": []
    }
  ],
  "metadata": {
    "colab": {
      "provenance": [],
      "mount_file_id": "1TN8BbypmMjICaURzlBUXjXRIpA6I4fS4",
      "authorship_tag": "ABX9TyP/JaZBrDWnQcxLQ+ia/Z73",
      "include_colab_link": true
    },
    "kernelspec": {
      "display_name": "Python 3",
      "name": "python3"
    },
    "language_info": {
      "name": "python"
    }
  },
  "nbformat": 4,
  "nbformat_minor": 0
}